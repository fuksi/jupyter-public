{
 "cells": [
  {
   "cell_type": "markdown",
   "metadata": {},
   "source": [
    "# Bayesian Data Analysis - Assignment 7\n",
    "\n",
    "## 1 Linear model with drowning data\n",
    "\n",
    "All source code for section 1 is at the end of the section. If this section is to be executed, the source code need to be ran first for the functions in the section to be referenced\n",
    "\n"
   ]
  },
  {
   "cell_type": "markdown",
   "metadata": {},
   "source": [
    "**i)** Trending in the number of people drown per year. \n",
    "\n",
    "There is a **decreasing trend** in the number of people drown per year from 1980 to 2016. The trend can be seen in the plot below"
   ]
  },
  {
   "cell_type": "code",
   "execution_count": 2,
   "metadata": {
    "scrolled": true
   },
   "outputs": [
    {
     "data": {
      "image/png": "[encoded data removed]",
      "text/plain": [
       "<Figure size 432x288 with 1 Axes>"
      ]
     },
     "metadata": {
      "needs_background": "light"
     },
     "output_type": "display_data"
    }
   ],
   "source": [
    "plot_trend()"
   ]
  },
  {
   "cell_type": "markdown",
   "metadata": {},
   "source": [
    "Below is **the histogram of the slope** of the linear model"
   ]
  },
  {
   "cell_type": "code",
   "execution_count": 3,
   "metadata": {},
   "outputs": [
    {
     "data": {
      "image/png": "[encoded data removed]",
      "text/plain": [
       "<Figure size 432x288 with 1 Axes>"
      ]
     },
     "metadata": {
      "needs_background": "light"
     },
     "output_type": "display_data"
    }
   ],
   "source": [
    "plot_beta_hist()"
   ]
  },
  {
   "cell_type": "markdown",
   "metadata": {},
   "source": [
    "**ii)** The **histogram of the posterior predictive distribution** for number of people drown in year 2019."
   ]
  },
  {
   "cell_type": "code",
   "execution_count": 4,
   "metadata": {},
   "outputs": [
    {
     "data": {
      "image/png": "[encoded data removed]",
      "text/plain": [
       "<Figure size 432x288 with 1 Axes>"
      ]
     },
     "metadata": {
      "needs_background": "light"
     },
     "output_type": "display_data"
    }
   ],
   "source": [
    "plot_ypred_hist()"
   ]
  },
  {
   "cell_type": "markdown",
   "metadata": {},
   "source": [
    "### Addition answers\n",
    "1. The fixes includes:\n",
    "    * addding lower bound to sigma\n",
    "    * using xpred for ypred calculation instead of mu  \n",
    "2. Using Z probability table, the z value for the given confidence level is 2.58 . Then the suitable approximate numerical value for τ: **26.7**  \n",
    "3. Source code to implement the prior: **see stan model (model_with_prior) belows**"
   ]
  },
  {
   "cell_type": "code",
   "execution_count": 5,
   "metadata": {},
   "outputs": [],
   "source": [
    "model_with_prior=\"\"\"\n",
    "data {\n",
    "    int<lower=0> N; // number of data points\n",
    "    vector[N] x; // observation year\n",
    "    vector[N] y; // observation number of drowned\n",
    "    real xpred; // prediction year\n",
    "    real pmubeta; // prior mean for beta\n",
    "    real ptaubeta; // prior std for beta\n",
    "}\n",
    "parameters {\n",
    "    real alpha;\n",
    "    real beta;\n",
    "    real<lower=0> sigma;\n",
    "}\n",
    "transformed parameters {\n",
    "    vector[N] mu;\n",
    "    mu = alpha + beta*x;\n",
    "}\n",
    "model {\n",
    "    beta ~ normal(pmubeta, ptaubeta);\n",
    "    y ~ normal(mu, sigma);\n",
    "}\n",
    "generated quantities {\n",
    "    real ypred;\n",
    "    ypred = normal_rng(alpha + beta*xpred, sigma);\n",
    "}\n",
    "\"\"\""
   ]
  },
  {
   "cell_type": "markdown",
   "metadata": {},
   "source": [
    "#### Source code for part 1"
   ]
  },
  {
   "cell_type": "code",
   "execution_count": 1,
   "metadata": {},
   "outputs": [],
   "source": [
    "%%capture\n",
    "import pystan\n",
    "import numpy as np\n",
    "import pickle\n",
    "import matplotlib.pyplot as plt\n",
    "\n",
    "# Data\n",
    "raw_data = np.loadtxt('drowning.txt')\n",
    "year = raw_data[:,0]\n",
    "drown_count = raw_data[:,1]\n",
    "\n",
    "# Model\n",
    "stan_model=\"\"\"\n",
    "data {\n",
    "    int<lower=0> N; // number of data points\n",
    "    vector[N] x; // observation year\n",
    "    vector[N] y; // observation number of drowned\n",
    "    real xpred; // prediction year\n",
    "}\n",
    "parameters {\n",
    "    real alpha;\n",
    "    real beta;\n",
    "    real<lower=0> sigma;\n",
    "}\n",
    "transformed parameters {\n",
    "    vector[N] mu;\n",
    "    mu = alpha + beta*x;\n",
    "}\n",
    "model {\n",
    "    y ~ normal(mu, sigma);\n",
    "}\n",
    "generated quantities {\n",
    "    real ypred;\n",
    "    ypred = normal_rng(alpha + beta*xpred, sigma);\n",
    "}\n",
    "\"\"\"\n",
    "\n",
    "# Fit model\n",
    "data = dict(N=37, x=year, y=drown_count, xpred=2019)        \n",
    "sm = pystan.StanModel(model_code=stan_model)\n",
    "fit = sm.sampling(data=data, iter=1000, chains=4)\n",
    "samples = fit.extract(permuted=True)\n",
    "\n",
    "# Prepare functions for report\n",
    "def plot_trend():\n",
    "    plt.scatter(year, drown_count)\n",
    "    year_x = np.arange(1980, 2017, 1)\n",
    "    beta_mean = np.mean(samples['beta'])\n",
    "    alpha_mean = np.mean(samples['alpha'])\n",
    "    drown_count_y = [alpha_mean + x * beta_mean for x in year_x]\n",
    "    plt.plot(year_x, drown_count_y, color='r')\n",
    "    plt.title('Number of drown trend')\n",
    "    plt.show()\n",
    "\n",
    "\n",
    "def plot_beta_hist():\n",
    "    plt.hist(samples['beta'])\n",
    "    plt.title('beta')\n",
    "    plt.show()\n",
    "    \n",
    "def plot_ypred_hist():\n",
    "    plt.hist(samples['ypred'])\n",
    "    plt.title('posterior predictive histogram for year 2019')\n",
    "    plt.show()"
   ]
  },
  {
   "cell_type": "markdown",
   "metadata": {},
   "source": [
    "## 1 Hierarchical model: factory data with Stan"
   ]
  },
  {
   "cell_type": "markdown",
   "metadata": {},
   "source": [
    "Some bootstraping code"
   ]
  },
  {
   "cell_type": "code",
   "execution_count": 6,
   "metadata": {},
   "outputs": [],
   "source": [
    "import pystan\n",
    "import numpy as np\n",
    "import pickle\n",
    "import matplotlib.pyplot as plt\n",
    "\n",
    "raw_data = np.loadtxt('factory.txt')\n",
    "x = np.tile(np.arange(1, 7), raw_data.shape[0])\n",
    "y = raw_data.ravel()"
   ]
  },
  {
   "cell_type": "markdown",
   "metadata": {},
   "source": [
    "### Separate model\n",
    "The answers are  after the source code"
   ]
  },
  {
   "cell_type": "code",
   "execution_count": 7,
   "metadata": {},
   "outputs": [],
   "source": [
    "%%capture\n",
    "model=\"\"\"\n",
    "data {\n",
    "  int<lower=0> N; // number of data points\n",
    "  int<lower=0> K; // number of groups\n",
    "  int<lower=1,upper=K> x[N]; // group indicator\n",
    "  vector[N] y; //\n",
    "}\n",
    "parameters {\n",
    "  vector[K] mu;        // group means\n",
    "  vector<lower=0>[K] sigma; // group std\n",
    "}\n",
    "model {\n",
    "  y ~ normal(mu[x], sigma[x]);\n",
    "}\n",
    "generated quantities {\n",
    "    real ypred_6; // predictive distribution for the 6th machine\n",
    "    ypred_6 = normal_rng(mu[6], sigma[6]);\n",
    "}\n",
    "\"\"\"\n",
    "\n",
    "data = dict(N=30, K=6, x=x, y=y)\n",
    "sm = pystan.StanModel(model_code=model)\n",
    "fit = sm.sampling(data=data, iter=1000, chains=4)\n",
    "samples = fit.extract(permuted=True)\n",
    "\n",
    "def plot_i_ii():\n",
    "    plt.hist(samples['mu'][:,5])\n",
    "    plt.title('Posterior distribution of 6th machine')\n",
    "    plt.show()\n",
    "    plt.hist(samples['ypred_6'])\n",
    "    plt.title('Predictive distribution of 6th machine')\n",
    "    plt.show()\n",
    "    "
   ]
  },
  {
   "cell_type": "markdown",
   "metadata": {},
   "source": [
    "##### Stan model inference"
   ]
  },
  {
   "cell_type": "code",
   "execution_count": 8,
   "metadata": {},
   "outputs": [
    {
     "name": "stdout",
     "output_type": "stream",
     "text": [
      "Inference for Stan model: anon_model_befaea1cc6bd57a6664f33c36bb75810.\n",
      "4 chains, each with iter=1000; warmup=500; thin=1; \n",
      "post-warmup draws per chain=500, total post-warmup draws=2000.\n",
      "\n",
      "           mean se_mean     sd   2.5%    25%    50%    75%  97.5%  n_eff   Rhat\n",
      "mu[1]     75.14    1.02  18.74  40.15  68.09   75.7  83.43 108.69    339   1.01\n",
      "mu[2]    106.51    0.36   9.44  87.17 101.71 106.25 111.06 124.65    674   1.01\n",
      "mu[3]      87.3     0.5  12.24  63.23  82.34  87.43  92.58 108.24    600    1.0\n",
      "mu[4]     112.0    0.28   6.67 100.08 108.86  111.7 114.76 126.88    574    1.0\n",
      "mu[5]     89.16    0.43  10.01  67.07   85.1  89.63  94.12 106.51    548    1.0\n",
      "mu[6]     87.32    0.62  16.58  56.84  78.91  86.42  95.13 123.99    725    1.0\n",
      "sigma[1]  32.22    1.44  26.54  12.36   19.2  25.55   36.2   97.7    339   1.01\n",
      "sigma[2]   18.5    0.43  11.26   7.67  11.67  15.32  21.25  50.07    677    1.0\n",
      "sigma[3]  21.54    0.85  18.79   8.32  12.54  16.79  24.15  62.18    487    1.0\n",
      "sigma[4]  12.26    0.41   9.01   4.87   7.44   9.92  13.86  33.54    493    1.0\n",
      "sigma[5]  18.06    0.65  13.91   6.88  10.76  14.53  20.79  49.26    452   1.01\n",
      "sigma[6]  31.29    0.91  22.21  12.66  19.21  25.21  36.07  87.61    597    1.0\n",
      "ypred_6   88.33    1.07  41.83  12.81  68.15  87.33 106.42 170.56   1514    1.0\n",
      "lp__     -81.71    0.19   3.51 -90.04 -83.76 -81.15 -79.16 -76.36    338   1.01\n",
      "\n",
      "Samples were drawn using NUTS at Mon Nov  5 01:28:16 2018.\n",
      "For each parameter, n_eff is a crude measure of effective sample size,\n",
      "and Rhat is the potential scale reduction factor on split chains (at \n",
      "convergence, Rhat=1).\n"
     ]
    }
   ],
   "source": [
    "print(fit)"
   ]
  },
  {
   "cell_type": "markdown",
   "metadata": {},
   "source": [
    "##### Answers for i) and ii)"
   ]
  },
  {
   "cell_type": "code",
   "execution_count": 9,
   "metadata": {},
   "outputs": [
    {
     "data": {
      "image/png": "[encoded data removed]",
      "text/plain": [
       "<Figure size 432x288 with 1 Axes>"
      ]
     },
     "metadata": {
      "needs_background": "light"
     },
     "output_type": "display_data"
    },
    {
     "data": {
      "image/png": "[encoded data removed]",
      "text/plain": [
       "<Figure size 432x288 with 1 Axes>"
      ]
     },
     "metadata": {
      "needs_background": "light"
     },
     "output_type": "display_data"
    }
   ],
   "source": [
    "plot_i_ii()"
   ]
  },
  {
   "cell_type": "markdown",
   "metadata": {
    "scrolled": true
   },
   "source": [
    "##### Answer for iii)\n",
    "This histogram for the 7th machine should be the same as in i) for the 6th machine because they have the same distribution for this case"
   ]
  },
  {
   "cell_type": "markdown",
   "metadata": {},
   "source": [
    "### Pool model\n",
    "The answers are  after the source code.\n",
    "Pool model stan code is very similar to separate model. Sigma is a single value in this case"
   ]
  },
  {
   "cell_type": "code",
   "execution_count": 10,
   "metadata": {},
   "outputs": [],
   "source": [
    "%%capture\n",
    "model=\"\"\"\n",
    "data {\n",
    "  int<lower=0> N; // number of data points\n",
    "  int<lower=0> K; // number of groups\n",
    "  int<lower=1,upper=K> x[N]; // group indicator\n",
    "  vector[N] y; //\n",
    "}\n",
    "parameters {\n",
    "  vector[K] mu;        // group means\n",
    "  real<lower=0> sigma; // common std\n",
    "}\n",
    "model {\n",
    "  y ~ normal(mu[x], sigma);\n",
    "}\n",
    "generated quantities {\n",
    "    real ypred_6; // predictive distribution for the 6th machine\n",
    "    ypred_6 = normal_rng(mu[6], sigma);\n",
    "}\n",
    "\"\"\"\n",
    "\n",
    "data = dict(N=30, K=6, x=x, y=y)\n",
    "sm = pystan.StanModel(model_code=model)\n",
    "fit = sm.sampling(data=data, iter=1000, chains=4)\n",
    "samples = fit.extract(permuted=True)\n",
    "\n",
    "def plot_i_ii():\n",
    "    plt.hist(samples['mu'][:,5])\n",
    "    plt.title('Posterior distribution of 6th machine')\n",
    "    plt.show()\n",
    "    plt.hist(samples['ypred_6'])\n",
    "    plt.title('Predictive distribution of 6th machine')\n",
    "    plt.show()\n",
    "    "
   ]
  },
  {
   "cell_type": "markdown",
   "metadata": {},
   "source": [
    "##### Stan model inference"
   ]
  },
  {
   "cell_type": "code",
   "execution_count": 11,
   "metadata": {},
   "outputs": [
    {
     "name": "stdout",
     "output_type": "stream",
     "text": [
      "Inference for Stan model: anon_model_28598bc7595af8884de7a43b9ba84b5a.\n",
      "4 chains, each with iter=1000; warmup=500; thin=1; \n",
      "post-warmup draws per chain=500, total post-warmup draws=2000.\n",
      "\n",
      "          mean se_mean     sd   2.5%    25%    50%    75%  97.5%  n_eff   Rhat\n",
      "mu[1]    75.91    0.13   6.97  61.57  71.63  76.02  80.29  90.06   2829    1.0\n",
      "mu[2]   106.34    0.15   6.95  92.19  101.7  106.2 110.62 120.59   2273    1.0\n",
      "mu[3]     88.0    0.14   6.92  74.84  83.38  87.84   92.6 101.93   2591    1.0\n",
      "mu[4]   111.78    0.12   6.71  99.04 107.09  111.8 116.43 124.73   3057    1.0\n",
      "mu[5]    90.11    0.12    6.8  77.11  85.69  90.03   94.6 104.14   2997    1.0\n",
      "mu[6]    86.16    0.13   6.98  72.08  81.69  86.28  90.71 100.13   2827    1.0\n",
      "sigma    15.16    0.05   2.33  11.45  13.51  14.93  16.42  20.55   1926    1.0\n",
      "ypred_6   86.2     0.4  17.24  51.54  75.22  86.21  97.53 120.75   1856    1.0\n",
      "lp__    -92.98    0.07   2.13 -97.86  -94.2 -92.55 -91.41 -89.97    846    1.0\n",
      "\n",
      "Samples were drawn using NUTS at Mon Nov  5 01:29:56 2018.\n",
      "For each parameter, n_eff is a crude measure of effective sample size,\n",
      "and Rhat is the potential scale reduction factor on split chains (at \n",
      "convergence, Rhat=1).\n"
     ]
    }
   ],
   "source": [
    "print(fit)"
   ]
  },
  {
   "cell_type": "markdown",
   "metadata": {},
   "source": [
    "##### Answers for i) and ii)"
   ]
  },
  {
   "cell_type": "code",
   "execution_count": 12,
   "metadata": {},
   "outputs": [
    {
     "data": {
      "image/png": "[encoded data removed]",
      "text/plain": [
       "<Figure size 432x288 with 1 Axes>"
      ]
     },
     "metadata": {
      "needs_background": "light"
     },
     "output_type": "display_data"
    },
    {
     "data": {
      "image/png": "[encoded data removed]",
      "text/plain": [
       "<Figure size 432x288 with 1 Axes>"
      ]
     },
     "metadata": {
      "needs_background": "light"
     },
     "output_type": "display_data"
    }
   ],
   "source": [
    "plot_i_ii()"
   ]
  },
  {
   "cell_type": "markdown",
   "metadata": {},
   "source": [
    "##### Answer for iii)\n",
    "This histogram for the 7th machine should be the same as in i) for the 6th machine because they have the same distribution also this case"
   ]
  },
  {
   "cell_type": "markdown",
   "metadata": {},
   "source": [
    "### Hierarchical model\n",
    "The answers are  after the source code.\n"
   ]
  },
  {
   "cell_type": "code",
   "execution_count": 13,
   "metadata": {},
   "outputs": [],
   "source": [
    "%%capture\n",
    "model=\"\"\"\n",
    "data {\n",
    "    int<lower=0> N; // number of data points\n",
    "    int<lower=0> K; // number of groups\n",
    "    int<lower=1,upper=K> x[N]; // group indicator\n",
    "    vector[N] y; //\n",
    "}\n",
    "parameters {\n",
    "    real mu0;             // prior mean\n",
    "    real<lower=0> sigma0; // prior std\n",
    "    vector[K] mu;         // group means\n",
    "    real<lower=0> sigma;  // common std\n",
    "}\n",
    "model {\n",
    "  mu0 ~ normal(10,10);      // weakly informative prior\n",
    "  sigma0 ~ cauchy(0,4);     // weakly informative prior\n",
    "  mu ~ normal(mu0, sigma0); // population prior with unknown parameters\n",
    "  sigma ~ cauchy(0,4);      // weakly informative prior\n",
    "  y ~ normal(mu[x], sigma);\n",
    "}\n",
    "generated quantities {\n",
    "    real ypred_6; // predictive distribution for the 6th machine\n",
    "    ypred_6 = normal_rng(mu[6], sigma);\n",
    "}\n",
    "\"\"\"\n",
    "\n",
    "data = dict(N=30, K=6, x=x, y=y)\n",
    "sm = pystan.StanModel(model_code=model)\n",
    "fit = sm.sampling(data=data, iter=1000, chains=4)\n",
    "samples = fit.extract(permuted=True)\n",
    "\n",
    "def plot_i_ii():\n",
    "    plt.hist(samples['mu'][:,5])\n",
    "    plt.title('Posterior distribution of 6th machine')\n",
    "    plt.show()\n",
    "    plt.hist(samples['ypred_6'])\n",
    "    plt.title('Predictive distribution of 6th machine')\n",
    "    plt.show()\n",
    "    "
   ]
  },
  {
   "cell_type": "markdown",
   "metadata": {},
   "source": [
    "##### Stan model inference"
   ]
  },
  {
   "cell_type": "code",
   "execution_count": 15,
   "metadata": {
    "scrolled": false
   },
   "outputs": [
    {
     "name": "stdout",
     "output_type": "stream",
     "text": [
      "Inference for Stan model: anon_model_21c2e5744abac4d4e83d90f1f235092a.\n",
      "4 chains, each with iter=1000; warmup=500; thin=1; \n",
      "post-warmup draws per chain=500, total post-warmup draws=2000.\n",
      "\n",
      "          mean se_mean     sd   2.5%    25%    50%    75%  97.5%  n_eff   Rhat\n",
      "mu0      19.87     0.2  10.12  -0.36  13.16  20.23  26.65  39.86   2679    1.0\n",
      "sigma0   76.63     0.6  27.34  40.53  58.57  71.16  88.57 141.83   2098    1.0\n",
      "mu[1]    75.15    0.13   7.07  59.86  70.74  75.41  79.61  89.04   3092    1.0\n",
      "mu[2]   105.29    0.12   6.57  92.25 101.09 105.41 109.63 118.33   2853    1.0\n",
      "mu[3]    87.04    0.12   6.49  73.48  82.78  87.11  91.49  99.85   3048    1.0\n",
      "mu[4]   110.87    0.12   6.67  97.42 106.29 110.84 115.39 124.02   3230    1.0\n",
      "mu[5]    89.31    0.13   6.43  76.23  85.17  89.33  93.31 102.17   2450    1.0\n",
      "mu[6]    85.47    0.12   6.88  71.58  81.03  85.43  89.98  99.28   3157    1.0\n",
      "sigma    14.61    0.06   2.24  11.18  12.99  14.29   15.9  20.04   1488    1.0\n",
      "ypred_6  85.32    0.36  16.18  53.59  75.08  84.86  95.75 118.25   2030    1.0\n",
      "lp__    -127.2     0.1   2.48 -133.4 -128.5 -126.8 -125.4 -123.5    667    1.0\n",
      "\n",
      "Samples were drawn using NUTS at Mon Nov  5 01:31:45 2018.\n",
      "For each parameter, n_eff is a crude measure of effective sample size,\n",
      "and Rhat is the potential scale reduction factor on split chains (at \n",
      "convergence, Rhat=1).\n"
     ]
    }
   ],
   "source": [
    "print(fit)"
   ]
  },
  {
   "cell_type": "markdown",
   "metadata": {},
   "source": [
    "##### Answers for i) and ii)"
   ]
  },
  {
   "cell_type": "code",
   "execution_count": 16,
   "metadata": {
    "scrolled": false
   },
   "outputs": [
    {
     "data": {
      "image/png": "[encoded data removed]",
      "text/plain": [
       "<Figure size 432x288 with 1 Axes>"
      ]
     },
     "metadata": {
      "needs_background": "light"
     },
     "output_type": "display_data"
    },
    {
     "data": {
      "image/png": "[encoded data removed]",
      "text/plain": [
       "<Figure size 432x288 with 1 Axes>"
      ]
     },
     "metadata": {
      "needs_background": "light"
     },
     "output_type": "display_data"
    }
   ],
   "source": [
    "plot_i_ii()"
   ]
  },
  {
   "cell_type": "code",
   "execution_count": null,
   "metadata": {},
   "outputs": [],
   "source": []
  }
 ],
 "metadata": {
  "kernelspec": {
   "display_name": "Python 3",
   "language": "python",
   "name": "python3"
  },
  "language_info": {
   "codemirror_mode": {
    "name": "ipython",
    "version": 3
   },
   "file_extension": ".py",
   "mimetype": "text/x-python",
   "name": "python",
   "nbconvert_exporter": "python",
   "pygments_lexer": "ipython3",
   "version": "3.7.1"
  },
  "varInspector": {
   "cols": {
    "lenName": 16,
    "lenType": 16,
    "lenVar": 40
   },
   "kernels_config": {
    "python": {
     "delete_cmd_postfix": "",
     "delete_cmd_prefix": "del ",
     "library": "var_list.py",
     "varRefreshCmd": "print(var_dic_list())"
    },
    "r": {
     "delete_cmd_postfix": ") ",
     "delete_cmd_prefix": "rm(",
     "library": "var_list.r",
     "varRefreshCmd": "cat(var_dic_list()) "
    }
   },
   "types_to_exclude": [
    "module",
    "function",
    "builtin_function_or_method",
    "instance",
    "_Feature"
   ],
   "window_display": false
  }
 },
 "nbformat": 4,
 "nbformat_minor": 2
}
