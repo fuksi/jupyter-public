{
 "cells": [
  {
   "cell_type": "markdown",
   "metadata": {},
   "source": [
    "# Bayesian Data Analysis - Assignment 7\n",
    "\n",
    "## 1 Linear model with drowning data\n",
    "\n",
    "All source code for section 1 is at the end of the section. If this section is to be executed, the source code need to be ran first for the functions in the section to be referenced\n",
    "\n"
   ]
  },
  {
   "cell_type": "markdown",
   "metadata": {},
   "source": [
    "**i)** Trending in the number of people drown per year. \n",
    "\n",
    "There is a **decreasing trend** in the number of people drown per year from 1980 to 2016. The trend can be seen in the plot below"
   ]
  },
  {
   "cell_type": "code",
   "execution_count": 6,
   "metadata": {
    "scrolled": true
   },
   "outputs": [
    {
     "data": {
      "image/png": "[encoded data removed]",
      "text/plain": [
       "<Figure size 432x288 with 1 Axes>"
      ]
     },
     "metadata": {
      "needs_background": "light"
     },
     "output_type": "display_data"
    }
   ],
   "source": [
    "plot_trend()"
   ]
  },
  {
   "cell_type": "markdown",
   "metadata": {},
   "source": [
    "Below is **the histogram of the slope** of the linear model"
   ]
  },
  {
   "cell_type": "code",
   "execution_count": 16,
   "metadata": {},
   "outputs": [
    {
     "data": {
      "image/png": "[encoded data removed]",
      "text/plain": [
       "<Figure size 432x288 with 1 Axes>"
      ]
     },
     "metadata": {
      "needs_background": "light"
     },
     "output_type": "display_data"
    }
   ],
   "source": [
    "plot_beta_hist()"
   ]
  },
  {
   "cell_type": "markdown",
   "metadata": {},
   "source": [
    "**ii)** The **histogram of the posterior predictive distribution** for number of people drown in year 2019."
   ]
  },
  {
   "cell_type": "code",
   "execution_count": 17,
   "metadata": {},
   "outputs": [
    {
     "data": {
      "image/png": "[encoded data removed]",
      "text/plain": [
       "<Figure size 432x288 with 1 Axes>"
      ]
     },
     "metadata": {
      "needs_background": "light"
     },
     "output_type": "display_data"
    }
   ],
   "source": [
    "plot_ypred_hist()"
   ]
  },
  {
   "cell_type": "markdown",
   "metadata": {},
   "source": [
    "### Addition answers\n",
    "1. The fixes includes:\n",
    "    * addding lower bound to sigma\n",
    "    * using xpred for ypred calculation instead of mu  \n",
    "2. Using Z probability table, the z value for the given confidence level is 2.58 . Then the suitable approximate numerical value for τ: **26.7**  \n",
    "3. Source code to implement the prior: **see stan model (model_with_prior) belows**"
   ]
  },
  {
   "cell_type": "code",
   "execution_count": 2,
   "metadata": {},
   "outputs": [],
   "source": [
    "model_with_prior=\"\"\"\n",
    "data {\n",
    "    int<lower=0> N; // number of data points\n",
    "    vector[N] x; // observation year\n",
    "    vector[N] y; // observation number of drowned\n",
    "    real xpred; // prediction year\n",
    "    real pmubeta; // prior mean for beta\n",
    "    real ptaubeta; // prior std for beta\n",
    "}\n",
    "parameters {\n",
    "    real alpha;\n",
    "    real beta;\n",
    "    real<lower=0> sigma;\n",
    "}\n",
    "transformed parameters {\n",
    "    vector[N] mu;\n",
    "    mu = alpha + beta*x;\n",
    "}\n",
    "model {\n",
    "    beta ~ normal(pmubeta, ptaubeta);\n",
    "    y ~ normal(mu, sigma);\n",
    "}\n",
    "generated quantities {\n",
    "    real ypred;\n",
    "    ypred = normal_rng(alpha + beta*xpred, sigma);\n",
    "}\n",
    "\"\"\""
   ]
  },
  {
   "cell_type": "markdown",
   "metadata": {},
   "source": [
    "#### Source code for part 1"
   ]
  },
  {
   "cell_type": "code",
   "execution_count": null,
   "metadata": {},
   "outputs": [
    {
     "name": "stderr",
     "output_type": "stream",
     "text": [
      "INFO:pystan:COMPILING THE C++ CODE FOR MODEL anon_model_377124706d73e8b6a6ea7c8fbc887445 NOW.\n"
     ]
    }
   ],
   "source": [
    "%%capture\n",
    "import pystan\n",
    "import numpy as np\n",
    "import pickle\n",
    "import matplotlib.pyplot as plt\n",
    "\n",
    "# Data\n",
    "raw_data = np.loadtxt('drowning.txt')\n",
    "year = raw_data[:,0]\n",
    "drown_count = raw_data[:,1]\n",
    "\n",
    "# Model\n",
    "stan_model=\"\"\"\n",
    "data {\n",
    "    int<lower=0> N; // number of data points\n",
    "    vector[N] x; // observation year\n",
    "    vector[N] y; // observation number of drowned\n",
    "    real xpred; // prediction year\n",
    "}\n",
    "parameters {\n",
    "    real alpha;\n",
    "    real beta;\n",
    "    real<lower=0> sigma;\n",
    "}\n",
    "transformed parameters {\n",
    "    vector[N] mu;\n",
    "    mu = alpha + beta*x;\n",
    "}\n",
    "model {\n",
    "    y ~ normal(mu, sigma);\n",
    "}\n",
    "generated quantities {\n",
    "    real ypred;\n",
    "    ypred = normal_rng(alpha + beta*xpred, sigma);\n",
    "}\n",
    "\"\"\"\n",
    "\n",
    "# Fit model\n",
    "data = dict(N=37, x=year, y=drown_count, xpred=2019)        \n",
    "sm = pystan.StanModel(model_code=stan_model)\n",
    "fit = sm.sampling(data=data, iter=1000, chains=4)\n",
    "samples = fit.extract(permuted=True)\n",
    "\n",
    "# Prepare functions for report\n",
    "def plot_trend():\n",
    "    plt.scatter(year, drown_count)\n",
    "    year_x = np.arange(1980, 2017, 1)\n",
    "    beta_mean = np.mean(samples['beta'])\n",
    "    alpha_mean = np.mean(samples['alpha'])\n",
    "    drown_count_y = [alpha_mean + x * beta_mean for x in year_x]\n",
    "    plt.plot(year_x, drown_count_y, color='r')\n",
    "    plt.title('Number of drown trend')\n",
    "    plt.show()\n",
    "\n",
    "\n",
    "def plot_beta_hist():\n",
    "    plt.hist(samples['beta'])\n",
    "    plt.title('beta')\n",
    "    plt.show()\n",
    "    \n",
    "def plot_ypred_hist():\n",
    "    plt.hist(samples['ypred'])\n",
    "    plt.title('posterior predictive histogram for year 2019')\n",
    "    plt.show()"
   ]
  },
  {
   "cell_type": "markdown",
   "metadata": {},
   "source": [
    "## 1 Hierarchical model: factory data with Stan"
   ]
  },
  {
   "cell_type": "markdown",
   "metadata": {},
   "source": [
    "Some bootstraping code"
   ]
  },
  {
   "cell_type": "code",
   "execution_count": 53,
   "metadata": {},
   "outputs": [],
   "source": [
    "import pystan\n",
    "import numpy as np\n",
    "import pickle\n",
    "import matplotlib.pyplot as plt\n",
    "\n",
    "raw_data = np.loadtxt('factory.txt')\n",
    "x = np.tile(np.arange(1, 7), raw_data.shape[0])\n",
    "y = raw_data.ravel()"
   ]
  },
  {
   "cell_type": "markdown",
   "metadata": {},
   "source": [
    "### Separate model\n",
    "The answers are  after the source code"
   ]
  },
  {
   "cell_type": "code",
   "execution_count": null,
   "metadata": {},
   "outputs": [],
   "source": [
    "%%capture\n",
    "model=\"\"\"\n",
    "data {\n",
    "  int<lower=0> N; // number of data points\n",
    "  int<lower=0> K; // number of groups\n",
    "  int<lower=1,upper=K> x[N]; // group indicator\n",
    "  vector[N] y; //\n",
    "}\n",
    "parameters {\n",
    "  vector[K] mu;        // group means\n",
    "  vector<lower=0>[K] sigma; // group std\n",
    "}\n",
    "model {\n",
    "  y ~ normal(mu[x], sigma[x]);\n",
    "}\n",
    "generated quantities {\n",
    "    real ypred_6; // predictive distribution for the 6th machine\n",
    "    ypred_6 = normal_rng(mu[6], sigma[6]);\n",
    "}\n",
    "\"\"\"\n",
    "\n",
    "data = dict(N=30, K=6, x=x, y=y)\n",
    "sm = pystan.StanModel(model_code=model)\n",
    "fit = sm.sampling(data=data, iter=1000, chains=4)\n",
    "samples = fit.extract(permuted=True)\n",
    "\n",
    "def plot_i_ii():\n",
    "    plt.hist(samples['mu'][:,5])\n",
    "    plt.title('Posterior distribution of 6th machine')\n",
    "    plt.show()\n",
    "    plt.hist(samples['ypred_6'])\n",
    "    plt.title('Predictive distribution of 6th machine')\n",
    "    plt.show()\n",
    "    "
   ]
  },
  {
   "cell_type": "markdown",
   "metadata": {},
   "source": [
    "##### Stan model inference"
   ]
  },
  {
   "cell_type": "code",
   "execution_count": 57,
   "metadata": {},
   "outputs": [
    {
     "name": "stdout",
     "output_type": "stream",
     "text": [
      "Inference for Stan model: anon_model_befaea1cc6bd57a6664f33c36bb75810.\n",
      "4 chains, each with iter=1000; warmup=500; thin=1; \n",
      "post-warmup draws per chain=500, total post-warmup draws=2000.\n",
      "\n",
      "           mean se_mean     sd   2.5%    25%    50%    75%  97.5%  n_eff   Rhat\n",
      "mu[1]     75.74     0.5  14.85  43.16  68.36  75.75  83.48 107.92    888    1.0\n",
      "mu[2]    105.87    0.38   9.76   85.9 101.81 106.17 110.52 124.29    663    1.0\n",
      "mu[3]     87.01    0.43  11.03  63.31  82.33  87.73  92.55 107.69    657    1.0\n",
      "mu[4]    111.91    0.18    5.7  100.9 108.85 111.66 114.66 124.19   1003    1.0\n",
      "mu[5]     90.19    0.37   8.54  73.72  85.73  90.11  94.43 107.22    543    1.0\n",
      "mu[6]     85.21    0.59  15.19  56.14  77.93  85.41  92.91 113.98    660   1.01\n",
      "sigma[1]  30.25    0.62  17.79  12.97  19.23  25.33  34.99  78.76    815    1.0\n",
      "sigma[2]  18.77    0.58  13.15   7.73  11.62   15.2  21.64   48.1    513   1.01\n",
      "sigma[3]  20.05    0.51  13.19   8.44  12.42   16.5  22.89   53.9    664    1.0\n",
      "sigma[4]  11.29    0.23   6.32   4.93   7.46   9.67  13.02   26.9    734    1.0\n",
      "sigma[5]  16.71    0.43  10.63   6.86  10.41  13.77  18.99  46.69    606    1.0\n",
      "sigma[6]  29.54    0.75  21.04  12.57  18.79  24.39  33.05  78.06    777    1.0\n",
      "ypred_6   86.47    1.02  39.81  14.03  68.38  86.94 105.06  165.1   1526    1.0\n",
      "lp__     -80.98    0.15   3.08 -88.18 -82.87 -80.53 -78.75 -76.29    445   1.02\n",
      "\n",
      "Samples were drawn using NUTS at Mon Nov  5 00:49:56 2018.\n",
      "For each parameter, n_eff is a crude measure of effective sample size,\n",
      "and Rhat is the potential scale reduction factor on split chains (at \n",
      "convergence, Rhat=1).\n"
     ]
    }
   ],
   "source": [
    "print(fit)"
   ]
  },
  {
   "cell_type": "markdown",
   "metadata": {},
   "source": [
    "##### Answers for i) and ii)"
   ]
  },
  {
   "cell_type": "code",
   "execution_count": 58,
   "metadata": {},
   "outputs": [
    {
     "data": {
      "image/png": "[encoded data removed]",
      "text/plain": [
       "<Figure size 432x288 with 1 Axes>"
      ]
     },
     "metadata": {
      "needs_background": "light"
     },
     "output_type": "display_data"
    },
    {
     "data": {
      "image/png": "[encoded data removed]",
      "text/plain": [
       "<Figure size 432x288 with 1 Axes>"
      ]
     },
     "metadata": {
      "needs_background": "light"
     },
     "output_type": "display_data"
    }
   ],
   "source": [
    "plot_i_ii()"
   ]
  },
  {
   "cell_type": "markdown",
   "metadata": {
    "scrolled": true
   },
   "source": [
    "##### Answer for iii)\n",
    "This histogram for the 7th machine should be the same as in i) for the 6th machine because they have the same distribution for this case"
   ]
  },
  {
   "cell_type": "markdown",
   "metadata": {},
   "source": [
    "### Pool model\n",
    "The answers are  after the source code.\n",
    "Pool model stan code is very similar to separate model. Sigma is a single value in this case"
   ]
  },
  {
   "cell_type": "code",
   "execution_count": 60,
   "metadata": {},
   "outputs": [
    {
     "name": "stderr",
     "output_type": "stream",
     "text": [
      "INFO:pystan:COMPILING THE C++ CODE FOR MODEL anon_model_28598bc7595af8884de7a43b9ba84b5a NOW.\n"
     ]
    }
   ],
   "source": [
    "%%capture\n",
    "model=\"\"\"\n",
    "data {\n",
    "  int<lower=0> N; // number of data points\n",
    "  int<lower=0> K; // number of groups\n",
    "  int<lower=1,upper=K> x[N]; // group indicator\n",
    "  vector[N] y; //\n",
    "}\n",
    "parameters {\n",
    "  vector[K] mu;        // group means\n",
    "  real<lower=0> sigma; // common std\n",
    "}\n",
    "model {\n",
    "  y ~ normal(mu[x], sigma);\n",
    "}\n",
    "generated quantities {\n",
    "    real ypred_6; // predictive distribution for the 6th machine\n",
    "    ypred_6 = normal_rng(mu[6], sigma);\n",
    "}\n",
    "\"\"\"\n",
    "\n",
    "data = dict(N=30, K=6, x=x, y=y)\n",
    "sm = pystan.StanModel(model_code=model)\n",
    "fit = sm.sampling(data=data, iter=1000, chains=4)\n",
    "samples = fit.extract(permuted=True)\n",
    "\n",
    "def plot_i_ii():\n",
    "    plt.hist(samples['mu'][:,5])\n",
    "    plt.title('Posterior distribution of 6th machine')\n",
    "    plt.show()\n",
    "    plt.hist(samples['ypred_6'])\n",
    "    plt.title('Predictive distribution of 6th machine')\n",
    "    plt.show()\n",
    "    "
   ]
  },
  {
   "cell_type": "markdown",
   "metadata": {},
   "source": [
    "##### Stan model inference"
   ]
  },
  {
   "cell_type": "code",
   "execution_count": 57,
   "metadata": {},
   "outputs": [
    {
     "name": "stdout",
     "output_type": "stream",
     "text": [
      "Inference for Stan model: anon_model_befaea1cc6bd57a6664f33c36bb75810.\n",
      "4 chains, each with iter=1000; warmup=500; thin=1; \n",
      "post-warmup draws per chain=500, total post-warmup draws=2000.\n",
      "\n",
      "           mean se_mean     sd   2.5%    25%    50%    75%  97.5%  n_eff   Rhat\n",
      "mu[1]     75.74     0.5  14.85  43.16  68.36  75.75  83.48 107.92    888    1.0\n",
      "mu[2]    105.87    0.38   9.76   85.9 101.81 106.17 110.52 124.29    663    1.0\n",
      "mu[3]     87.01    0.43  11.03  63.31  82.33  87.73  92.55 107.69    657    1.0\n",
      "mu[4]    111.91    0.18    5.7  100.9 108.85 111.66 114.66 124.19   1003    1.0\n",
      "mu[5]     90.19    0.37   8.54  73.72  85.73  90.11  94.43 107.22    543    1.0\n",
      "mu[6]     85.21    0.59  15.19  56.14  77.93  85.41  92.91 113.98    660   1.01\n",
      "sigma[1]  30.25    0.62  17.79  12.97  19.23  25.33  34.99  78.76    815    1.0\n",
      "sigma[2]  18.77    0.58  13.15   7.73  11.62   15.2  21.64   48.1    513   1.01\n",
      "sigma[3]  20.05    0.51  13.19   8.44  12.42   16.5  22.89   53.9    664    1.0\n",
      "sigma[4]  11.29    0.23   6.32   4.93   7.46   9.67  13.02   26.9    734    1.0\n",
      "sigma[5]  16.71    0.43  10.63   6.86  10.41  13.77  18.99  46.69    606    1.0\n",
      "sigma[6]  29.54    0.75  21.04  12.57  18.79  24.39  33.05  78.06    777    1.0\n",
      "ypred_6   86.47    1.02  39.81  14.03  68.38  86.94 105.06  165.1   1526    1.0\n",
      "lp__     -80.98    0.15   3.08 -88.18 -82.87 -80.53 -78.75 -76.29    445   1.02\n",
      "\n",
      "Samples were drawn using NUTS at Mon Nov  5 00:49:56 2018.\n",
      "For each parameter, n_eff is a crude measure of effective sample size,\n",
      "and Rhat is the potential scale reduction factor on split chains (at \n",
      "convergence, Rhat=1).\n"
     ]
    }
   ],
   "source": [
    "print(fit)"
   ]
  },
  {
   "cell_type": "markdown",
   "metadata": {},
   "source": [
    "##### Answers for i) and ii)"
   ]
  },
  {
   "cell_type": "code",
   "execution_count": 61,
   "metadata": {},
   "outputs": [
    {
     "data": {
      "image/png": "[encoded data removed]",
      "text/plain": [
       "<Figure size 432x288 with 1 Axes>"
      ]
     },
     "metadata": {
      "needs_background": "light"
     },
     "output_type": "display_data"
    },
    {
     "data": {
      "image/png": "[encoded data removed]",
      "text/plain": [
       "<Figure size 432x288 with 1 Axes>"
      ]
     },
     "metadata": {
      "needs_background": "light"
     },
     "output_type": "display_data"
    }
   ],
   "source": [
    "plot_i_ii()"
   ]
  },
  {
   "cell_type": "markdown",
   "metadata": {},
   "source": [
    "##### Answer for iii)\n",
    "This histogram for the 7th machine should be the same as in i) for the 6th machine because they have the same distribution also this case"
   ]
  },
  {
   "cell_type": "markdown",
   "metadata": {},
   "source": [
    "### Hierarchical model\n",
    "The answers are  after the source code.\n"
   ]
  },
  {
   "cell_type": "code",
   "execution_count": 62,
   "metadata": {},
   "outputs": [
    {
     "name": "stderr",
     "output_type": "stream",
     "text": [
      "INFO:pystan:COMPILING THE C++ CODE FOR MODEL anon_model_21c2e5744abac4d4e83d90f1f235092a NOW.\n"
     ]
    }
   ],
   "source": [
    "%%capture\n",
    "model=\"\"\"\n",
    "data {\n",
    "    int<lower=0> N; // number of data points\n",
    "    int<lower=0> K; // number of groups\n",
    "    int<lower=1,upper=K> x[N]; // group indicator\n",
    "    vector[N] y; //\n",
    "}\n",
    "parameters {\n",
    "    real mu0;             // prior mean\n",
    "    real<lower=0> sigma0; // prior std\n",
    "    vector[K] mu;         // group means\n",
    "    real<lower=0> sigma;  // common std\n",
    "}\n",
    "model {\n",
    "  mu0 ~ normal(10,10);      // weakly informative prior\n",
    "  sigma0 ~ cauchy(0,4);     // weakly informative prior\n",
    "  mu ~ normal(mu0, sigma0); // population prior with unknown parameters\n",
    "  sigma ~ cauchy(0,4);      // weakly informative prior\n",
    "  y ~ normal(mu[x], sigma);\n",
    "}\n",
    "generated quantities {\n",
    "    real ypred_6; // predictive distribution for the 6th machine\n",
    "    ypred_6 = normal_rng(mu[6], sigma);\n",
    "}\n",
    "\"\"\"\n",
    "\n",
    "data = dict(N=30, K=6, x=x, y=y)\n",
    "sm = pystan.StanModel(model_code=model)\n",
    "fit = sm.sampling(data=data, iter=1000, chains=4)\n",
    "samples = fit.extract(permuted=True)\n",
    "\n",
    "def plot_i_ii():\n",
    "    plt.hist(samples['mu'][:,5])\n",
    "    plt.title('Posterior distribution of 6th machine')\n",
    "    plt.show()\n",
    "    plt.hist(samples['ypred_6'])\n",
    "    plt.title('Predictive distribution of 6th machine')\n",
    "    plt.show()\n",
    "    "
   ]
  },
  {
   "cell_type": "markdown",
   "metadata": {},
   "source": [
    "##### Stan model inference"
   ]
  },
  {
   "cell_type": "code",
   "execution_count": 63,
   "metadata": {
    "scrolled": true
   },
   "outputs": [
    {
     "name": "stdout",
     "output_type": "stream",
     "text": [
      "Inference for Stan model: anon_model_21c2e5744abac4d4e83d90f1f235092a.\n",
      "4 chains, each with iter=1000; warmup=500; thin=1; \n",
      "post-warmup draws per chain=500, total post-warmup draws=2000.\n",
      "\n",
      "          mean se_mean     sd   2.5%    25%    50%    75%  97.5%  n_eff   Rhat\n",
      "mu0       19.6    0.21  10.56  -1.64  12.31  19.51  26.79  39.97   2436    1.0\n",
      "sigma0    77.1    0.68  26.66  40.83  59.38  71.64  89.52 140.59   1528    1.0\n",
      "mu[1]    75.45    0.12   6.63   61.9  71.12  75.48  79.99  88.34   2960    1.0\n",
      "mu[2]    105.3    0.12   6.23  92.72 101.34 105.44 109.59 117.19   2573    1.0\n",
      "mu[3]    86.92    0.13   6.73  72.94  82.53  86.93  91.38 100.25   2613    1.0\n",
      "mu[4]   110.83    0.13   6.63  97.24 106.71 110.84 115.07 123.49   2438    1.0\n",
      "mu[5]    89.37    0.12   6.18  77.29  85.33  89.39  93.43 101.51   2586    1.0\n",
      "mu[6]    85.44     0.1   6.27  73.65  81.37   85.3  89.33  98.38   3580    1.0\n",
      "sigma     14.5    0.05    2.2  10.97  12.88   14.2  15.77  19.54   1729    1.0\n",
      "ypred_6  85.06    0.35  15.55  54.48  75.16  84.97  95.64 114.87   1982    1.0\n",
      "lp__    -127.0    0.08   2.33 -132.9 -128.2 -126.6 -125.3 -123.7    835    1.0\n",
      "\n",
      "Samples were drawn using NUTS at Mon Nov  5 01:06:46 2018.\n",
      "For each parameter, n_eff is a crude measure of effective sample size,\n",
      "and Rhat is the potential scale reduction factor on split chains (at \n",
      "convergence, Rhat=1).\n"
     ]
    }
   ],
   "source": [
    "print(fit)"
   ]
  },
  {
   "cell_type": "markdown",
   "metadata": {},
   "source": [
    "##### Answers for i) and ii)"
   ]
  },
  {
   "cell_type": "code",
   "execution_count": 64,
   "metadata": {
    "scrolled": true
   },
   "outputs": [
    {
     "data": {
      "image/png": "[encoded data removed]",
      "text/plain": [
       "<Figure size 432x288 with 1 Axes>"
      ]
     },
     "metadata": {
      "needs_background": "light"
     },
     "output_type": "display_data"
    },
    {
     "data": {
      "image/png": "[encoded data removed]",
      "text/plain": [
       "<Figure size 432x288 with 1 Axes>"
      ]
     },
     "metadata": {
      "needs_background": "light"
     },
     "output_type": "display_data"
    }
   ],
   "source": [
    "plot_i_ii()"
   ]
  },
  {
   "cell_type": "code",
   "execution_count": null,
   "metadata": {},
   "outputs": [],
   "source": []
  }
 ],
 "metadata": {
  "kernelspec": {
   "display_name": "Python 3",
   "language": "python",
   "name": "python3"
  },
  "language_info": {
   "codemirror_mode": {
    "name": "ipython",
    "version": 3
   },
   "file_extension": ".py",
   "mimetype": "text/x-python",
   "name": "python",
   "nbconvert_exporter": "python",
   "pygments_lexer": "ipython3",
   "version": "3.7.1"
  },
  "varInspector": {
   "cols": {
    "lenName": 16,
    "lenType": 16,
    "lenVar": 40
   },
   "kernels_config": {
    "python": {
     "delete_cmd_postfix": "",
     "delete_cmd_prefix": "del ",
     "library": "var_list.py",
     "varRefreshCmd": "print(var_dic_list())"
    },
    "r": {
     "delete_cmd_postfix": ") ",
     "delete_cmd_prefix": "rm(",
     "library": "var_list.r",
     "varRefreshCmd": "cat(var_dic_list()) "
    }
   },
   "types_to_exclude": [
    "module",
    "function",
    "builtin_function_or_method",
    "instance",
    "_Feature"
   ],
   "window_display": false
  }
 },
 "nbformat": 4,
 "nbformat_minor": 2
}
