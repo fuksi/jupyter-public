{
 "cells": [
  {
   "cell_type": "markdown",
   "metadata": {},
   "source": [
    "# Bayesian Data Analysis - Assignment 7\n",
    "\n",
    "Note: all source code is at the end of the report. If this is to be executed, the source code need to be ran first for the functions in the report to be referenced\n",
    "\n",
    "## 1 Linear model with drowning data\n",
    "\n"
   ]
  },
  {
   "cell_type": "markdown",
   "metadata": {},
   "source": [
    "i) **Trending** in the number of people drown per year. \n",
    "\n",
    "There is a **decreasing trend** in the number of people drown per year from 1980 to 2016. The trend can be seen in the plot below"
   ]
  },
  {
   "cell_type": "code",
   "execution_count": 46,
   "metadata": {
    "scrolled": true
   },
   "outputs": [
    {
     "data": {
      "image/png": "[encoded data removed]",
      "text/plain": [
       "<Figure size 432x288 with 1 Axes>"
      ]
     },
     "metadata": {
      "needs_background": "light"
     },
     "output_type": "display_data"
    },
    {
     "data": {
      "text/plain": [
       "<Figure size 1440x1440 with 0 Axes>"
      ]
     },
     "metadata": {},
     "output_type": "display_data"
    }
   ],
   "source": [
    "plot_trend()"
   ]
  },
  {
   "cell_type": "markdown",
   "metadata": {},
   "source": [
    "Below is **the histogram of the slope** of the linear model"
   ]
  },
  {
   "cell_type": "code",
   "execution_count": 47,
   "metadata": {},
   "outputs": [
    {
     "data": {
      "image/png": "[encoded data removed]",
      "text/plain": [
       "<Figure size 432x288 with 1 Axes>"
      ]
     },
     "metadata": {
      "needs_background": "light"
     },
     "output_type": "display_data"
    }
   ],
   "source": [
    "plot_beta_hist()"
   ]
  },
  {
   "cell_type": "markdown",
   "metadata": {},
   "source": [
    "ii) The histogram of the posterior predictive distribution for number of people drown in year 2019."
   ]
  },
  {
   "cell_type": "code",
   "execution_count": 43,
   "metadata": {},
   "outputs": [
    {
     "name": "stderr",
     "output_type": "stream",
     "text": [
      "INFO:pystan:COMPILING THE C++ CODE FOR MODEL anon_model_32beae943e688fd16954dac030f4421b NOW.\n",
      "C:\\Users\\phuct\\Miniconda3\\envs\\stan\\lib\\site-packages\\Cython\\Compiler\\Main.py:367: FutureWarning: Cython directive 'language_level' not set, using 2 for now (Py2). This will change in a later release! File: C:\\Users\\phuct\\AppData\\Local\\Temp\\tmp6gr4a3d9\\stanfit4anon_model_32beae943e688fd16954dac030f4421b_3533084785716314507.pyx\n",
      "  tree = Parsing.p_module(s, pxd, full_module_name)\n",
      "WARNING:pystan:330 of 2000 iterations saturated the maximum tree depth of 10 (16.5%)\n",
      "WARNING:pystan:Run again with max_treedepth larger than 10 to avoid saturation\n"
     ]
    },
    {
     "name": "stdout",
     "output_type": "stream",
     "text": [
      "Inference for Stan model: anon_model_32beae943e688fd16954dac030f4421b.\n",
      "4 chains, each with iter=1000; warmup=500; thin=1; \n",
      "post-warmup draws per chain=500, total post-warmup draws=2000.\n",
      "\n",
      "         mean se_mean     sd   2.5%    25%    50%    75%  97.5%  n_eff   Rhat\n",
      "alpha  1774.6   36.46 763.48 214.39 1269.8 1790.0 2289.4 3242.2    438    1.0\n",
      "beta    -0.82    0.02   0.38  -1.55  -1.08  -0.83  -0.57  -0.04    438    1.0\n",
      "sigma   25.37    0.12   3.22   20.0  23.04   25.1  27.39  32.52    782    1.0\n",
      "mu[1]  152.84    0.34   8.12 136.54 147.43 152.83 158.37 168.35    561    1.0\n",
      "mu[2]  152.02    0.33   7.79 136.46  146.8 151.99 157.33 166.84    574    1.0\n",
      "mu[3]   151.2    0.31   7.47 136.28 146.22 151.15 156.34 165.38    589    1.0\n",
      "mu[4]  150.38    0.29   7.16  136.1 145.61 150.32 155.32  164.0    606    1.0\n",
      "mu[5]  149.56    0.27   6.85 136.01 144.99 149.51 154.27 162.53    626    1.0\n",
      "mu[6]  148.74    0.26   6.55 135.88 144.41  148.7 153.27  161.1    650    1.0\n",
      "mu[7]  147.92    0.24   6.26 135.94  143.8 147.94 152.25 159.74    679    1.0\n",
      "mu[8]  147.11    0.22   5.98 135.65 143.16 147.07 151.22  158.5    714    1.0\n",
      "mu[9]  146.29    0.21   5.71 135.47 142.47  146.2 150.16  157.3    757    1.0\n",
      "mu[10] 145.47    0.19   5.45 135.11 141.78 145.37 149.13 156.09    810    1.0\n",
      "mu[11] 144.65    0.18   5.21 134.95 141.04 144.55 148.11 154.89    875    1.0\n",
      "mu[12] 143.83    0.16   4.99 134.49 140.39 143.77 147.18 153.55    956    1.0\n",
      "mu[13] 143.01    0.15   4.79 134.04 139.68 142.96 146.21 152.41   1056    1.0\n",
      "mu[14] 142.19    0.13   4.61 133.54 139.04 142.11 145.23 151.32   1178    1.0\n",
      "mu[15] 141.37    0.12   4.45 132.87 138.29 141.33 144.27 150.18   1323    1.0\n",
      "mu[16] 140.55    0.11   4.33 132.21 137.57 140.54 143.37 149.13   1502    1.0\n",
      "mu[17] 139.73     0.1   4.23 131.57 136.81 139.73 142.58 148.12   1705    1.0\n",
      "mu[18] 138.91     0.1   4.17 130.81 136.04 138.86 141.68 147.07   1871    1.0\n",
      "mu[19]  138.1    0.09   4.14 130.03 135.25 138.04 140.86 146.21   1942    1.0\n",
      "mu[20] 137.28     0.1   4.15  129.0 134.47 137.22 140.08 145.37   1900    1.0\n",
      "mu[21] 136.46     0.1   4.19 128.19 133.64  136.4  139.3 144.74   1742    1.0\n",
      "mu[22] 135.64    0.11   4.27 127.13 132.82 135.62 138.54 144.32   1527    1.0\n",
      "mu[23] 134.82    0.12   4.38 125.93 131.87 134.84 137.77 143.64   1316    1.0\n",
      "mu[24]  134.0    0.13   4.52 124.82 130.98 133.99 137.04 142.88   1155    1.0\n",
      "mu[25] 133.18    0.15   4.68 123.88 130.02 133.15 136.35 142.46   1024    1.0\n",
      "mu[26] 132.36    0.16   4.87 122.77 129.11 132.31 135.61 142.01    919    1.0\n",
      "mu[27] 131.54    0.18   5.08 121.52 128.13 131.44 134.95 141.59    836    1.0\n",
      "mu[28] 130.72    0.19   5.32 120.36 127.15 130.64 134.27 141.39    770    1.0\n",
      "mu[29]  129.9    0.21   5.56 119.03 126.15 129.87 133.54 141.07    718    1.0\n",
      "mu[30] 129.09    0.22   5.82 117.65 125.21 129.14 132.87 140.81    676    1.0\n",
      "mu[31] 128.27    0.24    6.1 116.34 124.22 128.33 132.19 140.59    642    1.0\n",
      "mu[32] 127.45    0.26   6.39 115.23 123.12 127.52 131.59 140.53    615    1.0\n",
      "mu[33] 126.63    0.27   6.68 113.91 122.13  126.7 130.97  140.2    592    1.0\n",
      "mu[34] 125.81    0.29   6.98 112.43 121.06 125.85 130.37 139.86    573    1.0\n",
      "mu[35] 124.99    0.31    7.3 111.08 119.89 125.03 129.71 139.74    557    1.0\n",
      "mu[36] 124.17    0.33   7.61 109.72 118.83 124.14 129.15 139.55    543    1.0\n",
      "mu[37] 123.35    0.34   7.94 108.27 117.81 123.32  128.5  139.3    532    1.0\n",
      "ypred  121.65    0.68  26.91  69.56 103.45 121.65 139.49 175.97   1575    1.0\n",
      "lp__   -139.7    0.05   1.25 -142.9 -140.2 -139.4 -138.8 -138.2    614   1.01\n",
      "\n",
      "Samples were drawn using NUTS at Sun Nov  4 12:30:44 2018.\n",
      "For each parameter, n_eff is a crude measure of effective sample size,\n",
      "and Rhat is the potential scale reduction factor on split chains (at \n",
      "convergence, Rhat=1).\n"
     ]
    }
   ],
   "source": [
    "import pystan\n",
    "import numpy as np\n",
    "import pickle\n",
    "import matplotlib.pyplot as plt\n",
    "\n",
    "raw_data = np.loadtxt('drowning.txt')\n",
    "year = raw_data[:,0]\n",
    "drown_count = raw_data[:,1]\n",
    "\n",
    "stan_model=\"\"\"\n",
    "data {\n",
    "    int<lower=0> N; // number of data points\n",
    "    vector[N] x; // observation year\n",
    "    vector[N] y; // observation number of drowned\n",
    "    real xpred; // prediction year\n",
    "}\n",
    "parameters {\n",
    "    real alpha;\n",
    "    real beta;\n",
    "    real<lower=0> sigma;\n",
    "}\n",
    "transformed parameters {\n",
    "    vector[N] mu;\n",
    "    mu = alpha + beta*x;\n",
    "}\n",
    "model {\n",
    "    sigma ~ cauchy(0, 2.5);\n",
    "    y ~ normal(mu, sigma);\n",
    "}\n",
    "generated quantities {\n",
    "    real ypred;\n",
    "    ypred = normal_rng(alpha + beta*xpred, sigma);\n",
    "}\n",
    "\"\"\"\n",
    "\n",
    "data = dict(N=37, x=year, y=drown_count, xpred=2019)\n",
    "        \n",
    "sm = pystan.StanModel(model_code=stan_model)\n",
    "fit = sm.sampling(data=data, iter=1000, chains=4)\n",
    "print(fit)"
   ]
  },
  {
   "cell_type": "code",
   "execution_count": 44,
   "metadata": {},
   "outputs": [
    {
     "name": "stdout",
     "output_type": "stream",
     "text": [
      "[[144.52266157 143.57669798 142.63073439 ... 112.3598995  111.41393591\n",
      "  110.46797232]\n",
      " [165.96590184 164.63214157 163.2983813  ... 120.61805281 119.28429254\n",
      "  117.95053228]\n",
      " [150.97901432 150.17972641 149.3804385  ... 123.80322545 123.00393755\n",
      "  122.20464964]\n",
      " ...\n",
      " [166.54549483 164.79393832 163.04238181 ... 106.99257344 105.24101693\n",
      "  103.48946041]\n",
      " [170.66818499 169.19586765 167.72355031 ... 120.60939556 119.13707823\n",
      "  117.66476089]\n",
      " [158.49069769 157.49994345 156.5091892  ... 124.80505352 123.81429928\n",
      "  122.82354504]]\n"
     ]
    }
   ],
   "source": [
    "samples = fit.extract(permuted=True)\n",
    "print(samples['mu'])"
   ]
  },
  {
   "cell_type": "code",
   "execution_count": 45,
   "metadata": {
    "scrolled": true
   },
   "outputs": [],
   "source": [
    "def plot_trend():\n",
    "    plt.scatter(year, drown_count)\n",
    "    year_x = np.arange(1980, 2017, 1)\n",
    "    beta_mean = np.mean(samples['beta'])\n",
    "    alpha_mean = np.mean(samples['alpha'])\n",
    "    drown_count_y = [alpha_mean + x * beta_mean for x in year_x]\n",
    "    plt.plot(year_x, drown_count_y, color='r')\n",
    "    plt.title('Number of drown trend')\n",
    "    plt.show()\n",
    "\n",
    "\n",
    "def plot_beta_hist():\n",
    "    plt.hist(samples['beta'])\n",
    "    plt.title('beta')\n",
    "    plt.show()\n",
    "    \n",
    "def plot_ypred_hist():\n",
    "    plt.hist(samples['ypred'])\n",
    "    plt.title('posterior predictive histogram for year 2019')\n",
    "    plt.show()\n"
   ]
  },
  {
   "cell_type": "code",
   "execution_count": null,
   "metadata": {},
   "outputs": [],
   "source": []
  }
 ],
 "metadata": {
  "kernelspec": {
   "display_name": "Python 3",
   "language": "python",
   "name": "python3"
  },
  "language_info": {
   "codemirror_mode": {
    "name": "ipython",
    "version": 3
   },
   "file_extension": ".py",
   "mimetype": "text/x-python",
   "name": "python",
   "nbconvert_exporter": "python",
   "pygments_lexer": "ipython3",
   "version": "3.7.1"
  },
  "varInspector": {
   "cols": {
    "lenName": 16,
    "lenType": 16,
    "lenVar": 40
   },
   "kernels_config": {
    "python": {
     "delete_cmd_postfix": "",
     "delete_cmd_prefix": "del ",
     "library": "var_list.py",
     "varRefreshCmd": "print(var_dic_list())"
    },
    "r": {
     "delete_cmd_postfix": ") ",
     "delete_cmd_prefix": "rm(",
     "library": "var_list.r",
     "varRefreshCmd": "cat(var_dic_list()) "
    }
   },
   "types_to_exclude": [
    "module",
    "function",
    "builtin_function_or_method",
    "instance",
    "_Feature"
   ],
   "window_display": false
  }
 },
 "nbformat": 4,
 "nbformat_minor": 2
}
