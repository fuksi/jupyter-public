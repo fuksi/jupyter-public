{
 "cells": [
  {
   "cell_type": "code",
   "execution_count": 1,
   "metadata": {},
   "outputs": [],
   "source": [
    "import pystan\n",
    "import numpy as np\n",
    "import pickle\n",
    "import matplotlib as plt"
   ]
  },
  {
   "cell_type": "code",
   "execution_count": 2,
   "metadata": {},
   "outputs": [],
   "source": [
    "raw_data = np.loadtxt('drowning.txt')\n",
    "year = raw_data[:,0]\n",
    "drown_count = raw_data[:,1]\n"
   ]
  },
  {
   "cell_type": "code",
   "execution_count": 3,
   "metadata": {},
   "outputs": [
    {
     "name": "stderr",
     "output_type": "stream",
     "text": [
      "INFO:pystan:COMPILING THE C++ CODE FOR MODEL anon_model_ab9e6b60c5f67e1436e7b436a082e14b NOW.\n",
      "/home/dinht/.conda/envs/stan/lib/python3.7/site-packages/Cython/Compiler/Main.py:367: FutureWarning: Cython directive 'language_level' not set, using 2 for now (Py2). This will change in a later release! File: /tmp/tmp4jg86mo_/stanfit4anon_model_ab9e6b60c5f67e1436e7b436a082e14b_479681031672451417.pyx\n",
      "  tree = Parsing.p_module(s, pxd, full_module_name)\n",
      "/home/dinht/.conda/envs/stan/lib/python3.7/site-packages/pystan/misc.py:399: FutureWarning: Conversion of the second argument of issubdtype from `float` to `np.floating` is deprecated. In future, it will be treated as `np.float64 == np.dtype(float).type`.\n",
      "  elif np.issubdtype(np.asarray(v).dtype, float):\n"
     ]
    },
    {
     "name": "stdout",
     "output_type": "stream",
     "text": [
      "Inference for Stan model: anon_model_ab9e6b60c5f67e1436e7b436a082e14b.\n",
      "4 chains, each with iter=1000; warmup=500; thin=1; \n",
      "post-warmup draws per chain=500, total post-warmup draws=2000.\n",
      "\n",
      "         mean se_mean     sd   2.5%    25%    50%    75%  97.5%  n_eff   Rhat\n",
      "alpha  1753.3   32.12 780.74  274.9 1216.5 1733.2 2294.8 3351.2    591    1.0\n",
      "beta    -0.81    0.02   0.39  -1.61  -1.08   -0.8  -0.54  -0.07    591    1.0\n",
      "sigma   25.91    0.12   3.07  20.92  23.78  25.49   27.6  33.15    656   1.01\n",
      "mu[0]  152.64    0.31   8.08 136.86 147.33 152.33  158.1 168.47    687    1.0\n",
      "mu[1]  151.83    0.29   7.75 136.66 146.66 151.51  157.0 167.14    699    1.0\n",
      "mu[2]  151.02    0.28   7.42 136.43 146.03 150.65 155.99 165.72    713    1.0\n",
      "mu[3]  150.21    0.26    7.1 136.34 145.36 149.86 155.02 164.33    730    1.0\n",
      "mu[4]  149.41    0.25   6.79  136.1 144.76 149.06  154.0 162.87    749    1.0\n",
      "mu[5]   148.6    0.23   6.49  135.8 144.08  148.3  153.0 161.38    773    1.0\n",
      "mu[6]  147.79    0.22   6.19 135.77 143.48 147.56 151.99 159.95    801    1.0\n",
      "mu[7]  146.98     0.2   5.91  135.5 142.95 146.76 150.88 158.61    865    1.0\n",
      "mu[8]  146.17    0.19   5.64 135.32 142.38 146.01 149.79 157.19    906    1.0\n",
      "mu[9]  145.36    0.17   5.39 134.81 141.76 145.26 148.88 155.99    957    1.0\n",
      "mu[10] 144.56    0.16   5.15 134.46 141.11 144.47  147.9 154.65   1019    1.0\n",
      "mu[11] 143.75    0.15   4.93 134.09 140.45 143.62 146.87 153.31   1095    1.0\n",
      "mu[12] 142.94    0.14   4.73 133.71 139.68 142.88 145.94 152.01   1189    1.0\n",
      "mu[13] 142.13    0.13   4.56 133.28 139.03 142.13 145.08 150.87   1302    1.0\n",
      "mu[14] 141.32    0.12   4.42 132.74  138.3 141.34 144.19 149.89   1436    1.0\n",
      "mu[15] 140.51     0.1   4.31 132.12  137.6 140.55 143.33  148.7   2000    1.0\n",
      "mu[16] 139.71    0.09   4.23 131.51 136.83 139.69 142.48 147.93   2000    1.0\n",
      "mu[17]  138.9    0.09   4.18 130.86 136.07 138.88 141.71 146.95   2000    1.0\n",
      "mu[18] 138.09    0.09   4.18 129.94 135.26 138.02 140.93  146.3   2000    1.0\n",
      "mu[19] 137.28    0.09   4.21 128.98 134.43 137.23 140.06 145.51   2000    1.0\n",
      "mu[20] 136.47     0.1   4.27 127.91 133.51 136.46 139.31  144.7   2000    1.0\n",
      "mu[21] 135.66     0.1   4.37 126.86 132.66  135.7 138.54 144.16   2000    1.0\n",
      "mu[22] 134.85    0.11    4.5  125.6 131.81 134.93 137.78 143.86   1754    1.0\n",
      "mu[23] 134.05    0.12   4.66 124.38 130.99 134.14 136.96 143.48   1622    1.0\n",
      "mu[24] 133.24    0.14   4.85 123.33  130.1 133.27 136.27 142.91   1264    1.0\n",
      "mu[25] 132.43    0.15   5.06 122.19 129.26 132.46 135.54 142.41   1164    1.0\n",
      "mu[26] 131.62    0.16   5.29  121.0 128.24 131.66 134.92  142.1   1081    1.0\n",
      "mu[27] 130.81    0.17   5.53 119.62  127.2 130.85 134.35 141.69   1012    1.0\n",
      "mu[28]  130.0    0.19    5.8 118.45 126.26 130.08 133.69 141.37    956    1.0\n",
      "mu[29]  129.2     0.2   6.08  117.1 125.29 129.32  133.1 140.97    909    1.0\n",
      "mu[30] 128.39    0.22   6.37 115.67 124.26 128.54 132.46 140.63    870    1.0\n",
      "mu[31] 127.58    0.23   6.67 114.27 123.27 127.71 131.87 140.19    838    1.0\n",
      "mu[32] 126.77    0.25   6.97 112.96 122.23 126.84 131.29 139.96    810    1.0\n",
      "mu[33] 125.96    0.26   7.29 111.34 121.11 126.02 130.71 139.81    787    1.0\n",
      "mu[34] 125.15    0.27   7.61 109.83  120.1 125.14 130.19 139.65    767    1.0\n",
      "mu[35] 124.34    0.29   7.94 108.26 119.08 124.38 129.57 139.42    751    1.0\n",
      "mu[36] 123.54    0.31   8.28  106.8 118.02 123.56 129.06 139.21    736    1.0\n",
      "ypred  156.99    3.49  156.3 -152.6   53.6 158.21 260.49 465.75   2000    1.0\n",
      "lp__   -138.2    0.05    1.2 -141.3 -138.7 -137.9 -137.3 -136.8    680   1.01\n",
      "\n",
      "Samples were drawn using NUTS at Sat Nov  3 01:44:36 2018.\n",
      "For each parameter, n_eff is a crude measure of effective sample size,\n",
      "and Rhat is the potential scale reduction factor on split chains (at \n",
      "convergence, Rhat=1).\n"
     ]
    }
   ],
   "source": [
    "stan_model=\"\"\"\n",
    "data {\n",
    "    int<lower=0> N; // number of data points\n",
    "    vector[N] x; // observation year\n",
    "    vector[N] y; // observation number of drowned\n",
    "    real xpred; // prediction year\n",
    "}\n",
    "parameters {\n",
    "    real alpha;\n",
    "    real beta;\n",
    "    real sigma;\n",
    "}\n",
    "transformed parameters {\n",
    "    vector[N] mu;\n",
    "    mu = alpha + beta*x;\n",
    "}\n",
    "model {\n",
    "    y ~ normal(mu, sigma);\n",
    "}\n",
    "generated quantities {\n",
    "    real ypred;\n",
    "    ypred = normal_rng(mu[1], mu[2]);\n",
    "}\n",
    "\"\"\"\n",
    "\n",
    "data = dict(N=37, x=year, y=drown_count, xpred=2019)\n",
    "        \n",
    "sm = pystan.StanModel(model_code=stan_model)\n",
    "fit = sm.sampling(data=data, iter=1000, chains=4)\n",
    "print(fit)"
   ]
  },
  {
   "cell_type": "code",
   "execution_count": null,
   "metadata": {},
   "outputs": [],
   "source": []
  }
 ],
 "metadata": {
  "kernelspec": {
   "display_name": "Python 3",
   "language": "python",
   "name": "python3"
  },
  "language_info": {
   "codemirror_mode": {
    "name": "ipython",
    "version": 3
   },
   "file_extension": ".py",
   "mimetype": "text/x-python",
   "name": "python",
   "nbconvert_exporter": "python",
   "pygments_lexer": "ipython3",
   "version": "3.7.0"
  },
  "varInspector": {
   "cols": {
    "lenName": 16,
    "lenType": 16,
    "lenVar": 40
   },
   "kernels_config": {
    "python": {
     "delete_cmd_postfix": "",
     "delete_cmd_prefix": "del ",
     "library": "var_list.py",
     "varRefreshCmd": "print(var_dic_list())"
    },
    "r": {
     "delete_cmd_postfix": ") ",
     "delete_cmd_prefix": "rm(",
     "library": "var_list.r",
     "varRefreshCmd": "cat(var_dic_list()) "
    }
   },
   "types_to_exclude": [
    "module",
    "function",
    "builtin_function_or_method",
    "instance",
    "_Feature"
   ],
   "window_display": false
  }
 },
 "nbformat": 4,
 "nbformat_minor": 2
}
