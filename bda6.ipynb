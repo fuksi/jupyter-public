{
 "cells": [
  {
   "cell_type": "code",
   "execution_count": 1,
   "metadata": {},
   "outputs": [
    {
     "name": "stderr",
     "output_type": "stream",
     "text": [
      "INFO:pystan:COMPILING THE C++ CODE FOR MODEL anon_model_fc634b1dda7f2ff9cafa519b9669f25a NOW.\n",
      "C:\\Users\\phuct\\Miniconda3\\envs\\stan\\lib\\site-packages\\Cython\\Compiler\\Main.py:367: FutureWarning: Cython directive 'language_level' not set, using 2 for now (Py2). This will change in a later release! File: C:\\Users\\phuct\\AppData\\Local\\Temp\\tmpdq1np0xg\\stanfit4anon_model_fc634b1dda7f2ff9cafa519b9669f25a_2970383430145068009.pyx\n",
      "  tree = Parsing.p_module(s, pxd, full_module_name)\n"
     ]
    },
    {
     "name": "stdout",
     "output_type": "stream",
     "text": [
      "Inference for Stan model: anon_model_fc634b1dda7f2ff9cafa519b9669f25a.\n",
      "4 chains, each with iter=1000; warmup=500; thin=1; \n",
      "post-warmup draws per chain=500, total post-warmup draws=2000.\n",
      "\n",
      "           mean se_mean     sd   2.5%    25%    50%    75%  97.5%  n_eff   Rhat\n",
      "theta[1]   0.92    0.04    0.9  -0.79   0.31    0.9   1.48   2.82    549    1.0\n",
      "theta[2]  10.19    0.21   4.71   3.34   6.71   9.36  12.87  22.14    502    1.0\n",
      "lp__      -7.11    0.05   1.11 -10.22  -7.46  -6.76  -6.33  -6.11    496    1.0\n",
      "\n",
      "Samples were drawn using NUTS at Sun Nov  4 11:41:05 2018.\n",
      "For each parameter, n_eff is a crude measure of effective sample size,\n",
      "and Rhat is the potential scale reduction factor on split chains (at \n",
      "convergence, Rhat=1).\n"
     ]
    }
   ],
   "source": [
    "import numpy as np\n",
    "import pystan\n",
    "\n",
    "model=\"\"\"\n",
    "data {\n",
    "    int <lower=0> N; // number of data points\n",
    "    int <lower=0> y[N];\n",
    "    vector[N] x;\n",
    "    int<lower=0> n[N];\n",
    "    vector[2] mu;\n",
    "    matrix[2, 2] sigma;\n",
    "}\n",
    "parameters {\n",
    "    vector[2] theta;\n",
    "}\n",
    "model {\n",
    "    theta ~ multi_normal(mu, sigma);\n",
    "    y ~ binomial_logit(n, theta[1] + theta[2]*x);\n",
    "}\n",
    "\"\"\"\n",
    "\n",
    "data = {'N': 4, 'x': [-0.86, -0.30, -0.05, 0.73],\n",
    "        'y': [0, 1, 3, 5],\n",
    "        'n': [5, 5, 5, 5],\n",
    "        'mu': [0, 10],\n",
    "        'sigma': [[4, 10],[10, 100]]}\n",
    "bs = pystan.StanModel(model_code=model)\n",
    "fit = bs.sampling(data=data, iter=1000, chains=4)\n",
    "print(fit)"
   ]
  },
  {
   "cell_type": "code",
   "execution_count": null,
   "metadata": {},
   "outputs": [],
   "source": []
  }
 ],
 "metadata": {
  "kernelspec": {
   "display_name": "Python 3",
   "language": "python",
   "name": "python3"
  },
  "language_info": {
   "codemirror_mode": {
    "name": "ipython",
    "version": 3
   },
   "file_extension": ".py",
   "mimetype": "text/x-python",
   "name": "python",
   "nbconvert_exporter": "python",
   "pygments_lexer": "ipython3",
   "version": "3.7.1"
  },
  "varInspector": {
   "cols": {
    "lenName": 16,
    "lenType": 16,
    "lenVar": 40
   },
   "kernels_config": {
    "python": {
     "delete_cmd_postfix": "",
     "delete_cmd_prefix": "del ",
     "library": "var_list.py",
     "varRefreshCmd": "print(var_dic_list())"
    },
    "r": {
     "delete_cmd_postfix": ") ",
     "delete_cmd_prefix": "rm(",
     "library": "var_list.r",
     "varRefreshCmd": "cat(var_dic_list()) "
    }
   },
   "types_to_exclude": [
    "module",
    "function",
    "builtin_function_or_method",
    "instance",
    "_Feature"
   ],
   "window_display": false
  }
 },
 "nbformat": 4,
 "nbformat_minor": 2
}
