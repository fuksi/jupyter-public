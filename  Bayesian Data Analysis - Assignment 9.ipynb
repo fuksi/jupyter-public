{
 "cells": [
  {
   "cell_type": "markdown",
   "metadata": {},
   "source": [
    "# Model assessment: LOO-CV for factory data with Stan\n"
   ]
  },
  {
   "cell_type": "markdown",
   "metadata": {},
   "source": [
    "If this is to be executed, please execute the source code at the end of the report first. The report addresses the first two points of the assignment for each model, then give conlusion on the differences between models."
   ]
  },
  {
   "cell_type": "markdown",
   "metadata": {},
   "source": [
    "## SEPARATE MODEL\n"
   ]
  },
  {
   "cell_type": "markdown",
   "metadata": {},
   "source": [
    "**psis-loo, p_eff, k-values**"
   ]
  },
  {
   "cell_type": "code",
   "execution_count": 56,
   "metadata": {},
   "outputs": [
    {
     "name": "stdout",
     "output_type": "stream",
     "text": [
      "PSIS-LOO value is -132.1610216250452\n",
      "p_eff value is 9.689751572428591\n",
      "Histogram of k-values:\n"
     ]
    },
    {
     "data": {
      "image/png": "[encoded data removed]",
      "text/plain": [
       "<Figure size 432x288 with 1 Axes>"
      ]
     },
     "metadata": {
      "needs_background": "light"
     },
     "output_type": "display_data"
    }
   ],
   "source": [
    "get_separate_result()"
   ]
  },
  {
   "cell_type": "markdown",
   "metadata": {},
   "source": [
    "**Assement based on k-values**\n",
    "\n",
    "As can be seen from the histogram, there are **several k-values** > 0.7 , which is still very small w.r.t the number of samples. Then PSIS-LOO is considered **reliable** in this case\n",
    "\n"
   ]
  },
  {
   "cell_type": "markdown",
   "metadata": {},
   "source": [
    "## POOL MODEL\n"
   ]
  },
  {
   "cell_type": "markdown",
   "metadata": {},
   "source": [
    "**psis-loo, p_eff, k-values**"
   ]
  },
  {
   "cell_type": "code",
   "execution_count": 54,
   "metadata": {},
   "outputs": [
    {
     "name": "stdout",
     "output_type": "stream",
     "text": [
      "PSIS-LOO value is -130.95795612034993\n",
      "p_eff value is 1.9928311101955671\n",
      "Histogram of k-values:\n"
     ]
    },
    {
     "data": {
      "image/png": "[encoded data removed]",
      "text/plain": [
       "<Figure size 432x288 with 1 Axes>"
      ]
     },
     "metadata": {
      "needs_background": "light"
     },
     "output_type": "display_data"
    }
   ],
   "source": [
    "get_pool_result()"
   ]
  },
  {
   "cell_type": "markdown",
   "metadata": {},
   "source": [
    "**Assement based on k-values**\n",
    "\n",
    "As can be seen from the histogram, **all k-values < 0.7** (in fact all k-values are less than ~ 0.5). Then PSIS-LOO is considered **very reliable** in this case\n",
    "\n"
   ]
  },
  {
   "cell_type": "markdown",
   "metadata": {},
   "source": [
    "## HIERARCHICAL MODEL"
   ]
  },
  {
   "cell_type": "markdown",
   "metadata": {},
   "source": [
    "**psis-loo, p_eff, k-values**"
   ]
  },
  {
   "cell_type": "code",
   "execution_count": 55,
   "metadata": {},
   "outputs": [
    {
     "name": "stdout",
     "output_type": "stream",
     "text": [
      "PSIS-LOO value is -126.80815188646743\n",
      "p_eff value is 5.604461670553292\n",
      "Histogram of k-values:\n"
     ]
    },
    {
     "data": {
      "image/png": "[encoded data removed]",
      "text/plain": [
       "<Figure size 432x288 with 1 Axes>"
      ]
     },
     "metadata": {
      "needs_background": "light"
     },
     "output_type": "display_data"
    }
   ],
   "source": [
    "get_hierarchical_result()"
   ]
  },
  {
   "cell_type": "markdown",
   "metadata": {},
   "source": [
    "**Assement based on k-values**\n",
    "\n",
    "From the histogram, **all k-values < 0.7**. Then PSIS-LOO is considered **reliable** in this case\n",
    "\n"
   ]
  },
  {
   "cell_type": "markdown",
   "metadata": {},
   "source": [
    "-------------------------------\n",
    "\n",
    "##  CONCLUSION ON DIFFERENCE BETWEEN MODELS\n",
    "\n",
    "All models are reliable even with different distribution of k-values. If we consider towards model with best predictive accuracy, then **HIERARCHICAL MODEL** should be selected, because its PSIS-LOO value is the highest (or the sum of log predictive density is the highest)"
   ]
  },
  {
   "cell_type": "markdown",
   "metadata": {},
   "source": [
    " \n",
    "-------------------------------\n",
    "\n",
    "**SOURCE CODE**  "
   ]
  },
  {
   "cell_type": "markdown",
   "metadata": {},
   "source": [
    "Some bootstraping code and common function"
   ]
  },
  {
   "cell_type": "code",
   "execution_count": 1,
   "metadata": {},
   "outputs": [],
   "source": [
    "import pystan\n",
    "import numpy as np\n",
    "import pickle\n",
    "import matplotlib.pyplot as plt\n",
    "from psis import psisloo\n",
    "\n",
    "np.random.seed(seed=123)\n",
    "raw_data = np.loadtxt('factory.txt')\n",
    "data = dict(N=5, K=6, y=raw_data)\n"
   ]
  },
  {
   "cell_type": "markdown",
   "metadata": {},
   "source": [
    "Model codes. From top to bottom: separate, pool, hierarchical"
   ]
  },
  {
   "cell_type": "code",
   "execution_count": 90,
   "metadata": {},
   "outputs": [
    {
     "ename": "ValueError",
     "evalue": "Failed to parse Stan model 'anon_model_c2fa42c3502267859758f07ba1d92bb8'. Error message:\nSYNTAX ERROR, MESSAGE(S) FROM PARSER:\n\n  error in 'unknown file name' at line 21, column 5\n  -------------------------------------------------\n    19: generated quantities {\n    20:     real ypred[K]\n    21:     matrix[N,K] log_lik;\n            ^\n    22:     for (k in 1:K)\n  -------------------------------------------------\n\nPARSER EXPECTED: \";\"\n",
     "output_type": "error",
     "traceback": [
      "\u001b[0;31m---------------------------------------------------------------------------\u001b[0m",
      "\u001b[0;31mValueError\u001b[0m                                Traceback (most recent call last)",
      "\u001b[0;32m<ipython-input-90-99ab661b3e29>\u001b[0m in \u001b[0;36m<module>\u001b[0;34m\u001b[0m\n\u001b[1;32m     27\u001b[0m \"\"\"\n\u001b[1;32m     28\u001b[0m \u001b[0;34m\u001b[0m\u001b[0m\n\u001b[0;32m---> 29\u001b[0;31m \u001b[0mhierarchical_sm\u001b[0m \u001b[0;34m=\u001b[0m \u001b[0mpystan\u001b[0m\u001b[0;34m.\u001b[0m\u001b[0mStanModel\u001b[0m\u001b[0;34m(\u001b[0m\u001b[0mmodel_code\u001b[0m\u001b[0;34m=\u001b[0m\u001b[0mhierarchical_model\u001b[0m\u001b[0;34m)\u001b[0m\u001b[0;34m\u001b[0m\u001b[0m\n\u001b[0m\u001b[1;32m     30\u001b[0m \u001b[0mhierarchical_fit\u001b[0m \u001b[0;34m=\u001b[0m \u001b[0mhierarchical_sm\u001b[0m\u001b[0;34m.\u001b[0m\u001b[0msampling\u001b[0m\u001b[0;34m(\u001b[0m\u001b[0mdata\u001b[0m\u001b[0;34m=\u001b[0m\u001b[0mdata\u001b[0m\u001b[0;34m,\u001b[0m \u001b[0miter\u001b[0m\u001b[0;34m=\u001b[0m\u001b[0;36m2000\u001b[0m\u001b[0;34m,\u001b[0m \u001b[0mchains\u001b[0m\u001b[0;34m=\u001b[0m\u001b[0;36m4\u001b[0m\u001b[0;34m)\u001b[0m\u001b[0;34m\u001b[0m\u001b[0m\n",
      "\u001b[0;32m~/miniconda3/envs/stan/lib/python3.7/site-packages/pystan/model.py\u001b[0m in \u001b[0;36m__init__\u001b[0;34m(self, file, charset, model_name, model_code, stanc_ret, include_paths, boost_lib, eigen_lib, verbose, obfuscate_model_name, extra_compile_args)\u001b[0m\n\u001b[1;32m    222\u001b[0m                                          \u001b[0mverbose\u001b[0m\u001b[0;34m=\u001b[0m\u001b[0mverbose\u001b[0m\u001b[0;34m,\u001b[0m\u001b[0;34m\u001b[0m\u001b[0m\n\u001b[1;32m    223\u001b[0m                                          \u001b[0minclude_paths\u001b[0m\u001b[0;34m=\u001b[0m\u001b[0minclude_paths\u001b[0m\u001b[0;34m,\u001b[0m\u001b[0;34m\u001b[0m\u001b[0m\n\u001b[0;32m--> 224\u001b[0;31m                                          obfuscate_model_name=obfuscate_model_name)\n\u001b[0m\u001b[1;32m    225\u001b[0m \u001b[0;34m\u001b[0m\u001b[0m\n\u001b[1;32m    226\u001b[0m         \u001b[0;32mif\u001b[0m \u001b[0;32mnot\u001b[0m \u001b[0misinstance\u001b[0m\u001b[0;34m(\u001b[0m\u001b[0mstanc_ret\u001b[0m\u001b[0;34m,\u001b[0m \u001b[0mdict\u001b[0m\u001b[0;34m)\u001b[0m\u001b[0;34m:\u001b[0m\u001b[0;34m\u001b[0m\u001b[0m\n",
      "\u001b[0;32m~/miniconda3/envs/stan/lib/python3.7/site-packages/pystan/api.py\u001b[0m in \u001b[0;36mstanc\u001b[0;34m(file, charset, model_code, model_name, include_paths, verbose, obfuscate_model_name)\u001b[0m\n\u001b[1;32m    166\u001b[0m             \u001b[0mmsg\u001b[0m \u001b[0;34m=\u001b[0m \u001b[0mmsg\u001b[0m\u001b[0;34m.\u001b[0m\u001b[0mencode\u001b[0m\u001b[0;34m(\u001b[0m\u001b[0;34m'ascii'\u001b[0m\u001b[0;34m,\u001b[0m \u001b[0;34m'replace'\u001b[0m\u001b[0;34m)\u001b[0m\u001b[0;34m\u001b[0m\u001b[0m\n\u001b[1;32m    167\u001b[0m         \u001b[0merror_msg\u001b[0m \u001b[0;34m=\u001b[0m \u001b[0;34m\"Failed to parse Stan model '{}'. Error message:\\n{}\"\u001b[0m\u001b[0;34m.\u001b[0m\u001b[0mformat\u001b[0m\u001b[0;34m(\u001b[0m\u001b[0mmodel_name\u001b[0m\u001b[0;34m,\u001b[0m \u001b[0mmsg\u001b[0m\u001b[0;34m)\u001b[0m\u001b[0;34m\u001b[0m\u001b[0m\n\u001b[0;32m--> 168\u001b[0;31m         \u001b[0;32mraise\u001b[0m \u001b[0mValueError\u001b[0m\u001b[0;34m(\u001b[0m\u001b[0merror_msg\u001b[0m\u001b[0;34m)\u001b[0m\u001b[0;34m\u001b[0m\u001b[0m\n\u001b[0m\u001b[1;32m    169\u001b[0m     \u001b[0;32melif\u001b[0m \u001b[0mresult\u001b[0m\u001b[0;34m[\u001b[0m\u001b[0;34m'status'\u001b[0m\u001b[0;34m]\u001b[0m \u001b[0;34m==\u001b[0m \u001b[0;36m0\u001b[0m\u001b[0;34m:\u001b[0m  \u001b[0;31m# SUCCESS_RC is 0\u001b[0m\u001b[0;34m\u001b[0m\u001b[0m\n\u001b[1;32m    170\u001b[0m         \u001b[0mlogger\u001b[0m\u001b[0;34m.\u001b[0m\u001b[0mdebug\u001b[0m\u001b[0;34m(\u001b[0m\u001b[0;34m\"Successfully parsed Stan model '{}'.\"\u001b[0m\u001b[0;34m.\u001b[0m\u001b[0mformat\u001b[0m\u001b[0;34m(\u001b[0m\u001b[0mmodel_name\u001b[0m\u001b[0;34m)\u001b[0m\u001b[0;34m)\u001b[0m\u001b[0;34m\u001b[0m\u001b[0m\n",
      "\u001b[0;31mValueError\u001b[0m: Failed to parse Stan model 'anon_model_c2fa42c3502267859758f07ba1d92bb8'. Error message:\nSYNTAX ERROR, MESSAGE(S) FROM PARSER:\n\n  error in 'unknown file name' at line 21, column 5\n  -------------------------------------------------\n    19: generated quantities {\n    20:     real ypred[K]\n    21:     matrix[N,K] log_lik;\n            ^\n    22:     for (k in 1:K)\n  -------------------------------------------------\n\nPARSER EXPECTED: \";\"\n"
     ]
    }
   ],
   "source": [
    "%%capture\n",
    "hierarchical_model = \"\"\"\n",
    "data {\n",
    "  int<lower=0> N;\n",
    "  int<lower=0> K;\n",
    "  matrix[N,K] y;\n",
    "}\n",
    "parameters {\n",
    "  real theta0; // common theta for each K machine theta\n",
    "  real<lower=0> sigma0; // machine specific sigma\n",
    "  real theta[K]; // machine specific theta\n",
    "  real<lower=0> sigma; // common std\n",
    "}\n",
    "model {\n",
    "  for (k in 1:K)\n",
    "    theta[k] ~ normal(theta0, sigma0);\n",
    "  for (k in 1:K)\n",
    "    y[:,k] ~ normal(theta[k], sigma);\n",
    "}\n",
    "generated quantities {\n",
    "    real ypred[K]\n",
    "    matrix[N,K] log_lik;\n",
    "    for (k in 1:K)\n",
    "      ypred[k] = normal_rng(theta[k], sigma)\n",
    "      for (i in 1:N)\n",
    "        log_lik[i,k] = normal_lpdf(y[i,k] | theta[k], sigma);\n",
    "}\n",
    "\"\"\"\n",
    "\n",
    "hierarchical_sm = pystan.StanModel(model_code=hierarchical_model)\n",
    "hierarchical_fit = hierarchical_sm.sampling(data=data, iter=2000, chains=4)"
   ]
  },
  {
   "cell_type": "code",
   "execution_count": 89,
   "metadata": {},
   "outputs": [
    {
     "name": "stdout",
     "output_type": "stream",
     "text": [
      "(4000, 6)\n",
      "(4000, 5, 6)\n"
     ]
    }
   ],
   "source": [
    "lp = hierarchical_fit['lp__']\n",
    "theta = hierarchical_fit['theta']\n",
    "log_lik = hierarchical_fit['log_lik']\n",
    "print(theta.shape)\n",
    "print(log_lik.shape)\n"
   ]
  },
  {
   "cell_type": "code",
   "execution_count": 86,
   "metadata": {},
   "outputs": [
    {
     "name": "stdout",
     "output_type": "stream",
     "text": [
      "[82.54143338 79.91926633 85.53571775 ... 81.09147815 77.38233303\n",
      " 79.3055528 ]\n",
      "[[0.02357113 0.02016843 0.02016843 0.00228874 0.01546358]\n",
      " [0.02808244 0.0196869  0.0196869  0.00144055 0.01864141]\n",
      " [0.02599052 0.02406028 0.02406028 0.00086957 0.01245213]\n",
      " ...\n",
      " [0.0256039  0.02011624 0.02011624 0.00196469 0.0170326 ]\n",
      " [0.02403455 0.01649265 0.01649265 0.00334781 0.02052938]\n",
      " [0.02788095 0.01893459 0.01893459 0.00157413 0.01942374]]\n"
     ]
    }
   ],
   "source": [
    "print(theta[:,0]) # theta val of machine 1 in all simulation\n",
    "print(np.exp((log_lik[:,:,0]))) # density of 5 observation in machine 1 in all simulation"
   ]
  },
  {
   "cell_type": "code",
   "execution_count": 88,
   "metadata": {},
   "outputs": [
    {
     "data": {
      "text/plain": [
       "0.08166031"
      ]
     },
     "execution_count": 88,
     "metadata": {},
     "output_type": "execute_result"
    }
   ],
   "source": [
    "foo = [0.02357113, 0.02016843, 0.02016843, 0.00228874, 0.01546358]\n",
    "np.sum(foo)"
   ]
  }
 ],
 "metadata": {
  "kernelspec": {
   "display_name": "Python 3",
   "language": "python",
   "name": "python3"
  },
  "language_info": {
   "codemirror_mode": {
    "name": "ipython",
    "version": 3
   },
   "file_extension": ".py",
   "mimetype": "text/x-python",
   "name": "python",
   "nbconvert_exporter": "python",
   "pygments_lexer": "ipython3",
   "version": "3.7.0"
  },
  "varInspector": {
   "cols": {
    "lenName": 16,
    "lenType": 16,
    "lenVar": 40
   },
   "kernels_config": {
    "python": {
     "delete_cmd_postfix": "",
     "delete_cmd_prefix": "del ",
     "library": "var_list.py",
     "varRefreshCmd": "print(var_dic_list())"
    },
    "r": {
     "delete_cmd_postfix": ") ",
     "delete_cmd_prefix": "rm(",
     "library": "var_list.r",
     "varRefreshCmd": "cat(var_dic_list()) "
    }
   },
   "types_to_exclude": [
    "module",
    "function",
    "builtin_function_or_method",
    "instance",
    "_Feature"
   ],
   "window_display": false
  }
 },
 "nbformat": 4,
 "nbformat_minor": 2
}
