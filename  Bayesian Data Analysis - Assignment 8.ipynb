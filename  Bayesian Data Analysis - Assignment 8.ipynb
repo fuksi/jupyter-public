{
 "cells": [
  {
   "cell_type": "markdown",
   "metadata": {},
   "source": [
    "# Hierarchical model: factory data with Stan"
   ]
  },
  {
   "cell_type": "markdown",
   "metadata": {},
   "source": [
    "Some bootstraping code"
   ]
  },
  {
   "cell_type": "code",
   "execution_count": 11,
   "metadata": {},
   "outputs": [
    {
     "name": "stdout",
     "output_type": "stream",
     "text": [
      "117.0\n"
     ]
    }
   ],
   "source": [
    "import pystan\n",
    "import numpy as np\n",
    "import pickle\n",
    "import matplotlib.pyplot as plt\n",
    "\n",
    "raw_data = np.loadtxt('factory.txt')\n",
    "x = np.tile(np.arange(1, 7), raw_data.shape[0])\n",
    "y = raw_data.ravel()\n",
    "print(raw_data[0,1])\n"
   ]
  },
  {
   "cell_type": "markdown",
   "metadata": {},
   "source": [
    "-------------------------------\n",
    "\n",
    "**Separate model**  "
   ]
  },
  {
   "cell_type": "markdown",
   "metadata": {},
   "source": [
    "\n",
    "The answers are  after the source code"
   ]
  },
  {
   "cell_type": "code",
   "execution_count": 19,
   "metadata": {},
   "outputs": [
    {
     "name": "stderr",
     "output_type": "stream",
     "text": [
      "INFO:pystan:COMPILING THE C++ CODE FOR MODEL anon_model_47879e64d76f6e213ddc2ef716bec596 NOW.\n"
     ]
    }
   ],
   "source": [
    "%%capture\n",
    "alter_model = \"\"\"\n",
    "data {\n",
    "  int<lower=0> N; // number of observation per machine\n",
    "  int<lower=0> K; // number of machine\n",
    "  matrix[N,K] y; // matrix with of which 1 column is observations of a machine\n",
    "}\n",
    "parameters {\n",
    "  real theta0; // common theta for each K machine theta\n",
    "  real<lower=0> sigma0; // common sta...\n",
    "  real theta[K]; // machine specific theta\n",
    "  real<lower=0> sigma; // common std\n",
    "}\n",
    "model {\n",
    "  for (k in 1:K)\n",
    "    theta[k] ~ normal(theta0, sigma0); // compute machine theta from common theta\n",
    "  for (k in 1:K)\n",
    "    y[:,k] ~ normal(theta[k], sigma);\n",
    "}\n",
    "generated quantities {\n",
    "    real ypred_6; // predictive distribution for the 6th machine\n",
    "    real theta7;\n",
    "    matrix[N,K] log_lik;\n",
    "    ypred_6 = normal_rng(theta[6], sigma);\n",
    "    theta7 = normal_rng(theta0, sigma0);\n",
    "    for (k in 1:K)\n",
    "      for (i in 1:N)\n",
    "        log_lik[i,k] = normal_lpdf(y[i,k] | theta[k], sigma);\n",
    "}\n",
    "\"\"\"\n",
    "model=\"\"\"\n",
    "data {\n",
    "  int<lower=0> N; // number of data points\n",
    "  int<lower=0> K; // number of groups\n",
    "  int<lower=1,upper=K> x[N]; // group indicator\n",
    "  vector[N] y; //\n",
    "}\n",
    "parameters {\n",
    "  vector[K] mu;        // group means\n",
    "  vector<lower=0>[K] sigma; // group std\n",
    "}\n",
    "model {\n",
    "  y ~ normal(mu[x], sigma[x]);\n",
    "}\n",
    "generated quantities {\n",
    "    real ypred_6; // predictive distribution for the 6th machine\n",
    "    ypred_6 = normal_rng(mu[6], sigma[6]);\n",
    "}\n",
    "\"\"\"\n",
    "\n",
    "\"\"\"\n",
    "real ypred_6; // predictive distribution for the 6th machine\n",
    "    ypred_6 = normal_rng(mu[6], sigma[6]);\n",
    "\"\"\"\n",
    "\n",
    "#data = dict(N=30, K=6, x=x, y=y)\n",
    "#sm = pystan.StanModel(model_code=model)\n",
    "data = dict(N=5, K=6, y=raw_data)\n",
    "sm = pystan.StanModel(model_code=alter_model)\n",
    "fit = sm.sampling(data=data, iter=1000, chains=4)\n",
    "samples = fit.extract(permuted=True)\n",
    "\n",
    "def plot_i_ii():\n",
    "    plt.hist(samples['mu'][:,5])\n",
    "    plt.title('Posterior distribution of 6th machine')\n",
    "    plt.show()\n",
    "    plt.hist(samples['ypred_6'])\n",
    "    plt.title('Predictive distribution of 6th machine')\n",
    "    plt.show()\n",
    "    "
   ]
  },
  {
   "cell_type": "markdown",
   "metadata": {},
   "source": [
    "##### Stan model inference"
   ]
  },
  {
   "cell_type": "code",
   "execution_count": 48,
   "metadata": {},
   "outputs": [
    {
     "name": "stdout",
     "output_type": "stream",
     "text": [
      "<class 'tuple'>\n",
      "3\n",
      "(-126.83405269784245, array([-3.78738821, -4.26568386, -4.13504285, -3.77501649, -4.08787087,\n",
      "       -6.39813754, -4.18729624, -3.84269731, -3.78411369, -4.13064384,\n",
      "       -3.83250886, -3.79224495, -4.18729624, -4.06470431, -3.76519895,\n",
      "       -3.96465874, -4.12594247, -4.49769078, -7.10357678, -3.75683426,\n",
      "       -3.76276854, -3.83823461, -4.08787087, -4.02864682, -4.19518982,\n",
      "       -4.51341512, -5.05987963, -3.96465874, -3.73437925, -4.16446206]), array([0.15120484, 0.40068629, 0.21415363, 0.32665159, 0.20674065,\n",
      "       0.50994476, 0.28181228, 0.28487425, 0.20619065, 0.13918379,\n",
      "       0.13688524, 0.38434898, 0.28181228, 0.27215344, 0.18947655,\n",
      "       0.06867945, 0.14329249, 0.34610903, 0.58757382, 0.13616552,\n",
      "       0.14404126, 0.33850923, 0.20674065, 0.2492721 , 0.20639715,\n",
      "       0.32715729, 0.37283726, 0.06867945, 0.18717735, 0.28012923]))\n"
     ]
    }
   ],
   "source": [
    "from psis import psisloo\n",
    "# print(len(samples['log_lik'][0]))\n",
    "log_lik_matrix = np.asarray([single_sample.flatten() for single_sample in samples['log_lik']])\n",
    "foo = psisloo(log_lik_matrix)\n",
    "print(type(foo))\n",
    "print(len(foo))\n",
    "print(foo)"
   ]
  },
  {
   "cell_type": "code",
   "execution_count": 28,
   "metadata": {},
   "outputs": [
    {
     "name": "stdout",
     "output_type": "stream",
     "text": [
      "foo\n"
     ]
    }
   ],
   "source": [
    "print('foo')\n",
    "# print(fit)"
   ]
  },
  {
   "cell_type": "markdown",
   "metadata": {},
   "source": [
    "##### Answers for i) and ii)"
   ]
  },
  {
   "cell_type": "code",
   "execution_count": 9,
   "metadata": {},
   "outputs": [
    {
     "data": {
      "image/png": "[encoded data removed]",
      "text/plain": [
       "<Figure size 432x288 with 1 Axes>"
      ]
     },
     "metadata": {
      "needs_background": "light"
     },
     "output_type": "display_data"
    },
    {
     "data": {
      "image/png": "[encoded data removed]",
      "text/plain": [
       "<Figure size 432x288 with 1 Axes>"
      ]
     },
     "metadata": {
      "needs_background": "light"
     },
     "output_type": "display_data"
    }
   ],
   "source": [
    "plot_i_ii()"
   ]
  },
  {
   "cell_type": "markdown",
   "metadata": {
    "scrolled": true
   },
   "source": [
    "##### Answer for iii)\n",
    "This histogram for the 7th machine should be the same as in i) for the 6th machine because they have the same distribution for this case   \n",
    "      "
   ]
  },
  {
   "cell_type": "markdown",
   "metadata": {},
   "source": [
    "-------------------------------\n",
    "\n",
    "**Pool model**  "
   ]
  },
  {
   "cell_type": "markdown",
   "metadata": {},
   "source": [
    "\n",
    "\n",
    "The answers are  after the source code.\n",
    "Pool model stan code is very similar to separate model. Sigma is a single value in this case"
   ]
  },
  {
   "cell_type": "code",
   "execution_count": 10,
   "metadata": {},
   "outputs": [],
   "source": [
    "%%capture\n",
    "model=\"\"\"\n",
    "data {\n",
    "  int<lower=0> N; // number of data points\n",
    "  int<lower=0> K; // number of groups\n",
    "  int<lower=1,upper=K> x[N]; // group indicator\n",
    "  vector[N] y; //\n",
    "}\n",
    "parameters {\n",
    "  vector[K] mu;        // group means\n",
    "  real<lower=0> sigma; // common std\n",
    "}\n",
    "model {\n",
    "  y ~ normal(mu[x], sigma);\n",
    "}\n",
    "generated quantities {\n",
    "    real ypred_6; // predictive distribution for the 6th machine\n",
    "    ypred_6 = normal_rng(mu[6], sigma);\n",
    "}\n",
    "\"\"\"\n",
    "\n",
    "data = dict(N=30, K=6, x=x, y=y)\n",
    "sm = pystan.StanModel(model_code=model)\n",
    "fit = sm.sampling(data=data, iter=1000, chains=4)\n",
    "samples = fit.extract(permuted=True)\n",
    "\n",
    "def plot_i_ii():\n",
    "    plt.hist(samples['mu'][:,5])\n",
    "    plt.title('Posterior distribution of 6th machine')\n",
    "    plt.show()\n",
    "    plt.hist(samples['ypred_6'])\n",
    "    plt.title('Predictive distribution of 6th machine')\n",
    "    plt.show()\n",
    "    "
   ]
  },
  {
   "cell_type": "markdown",
   "metadata": {},
   "source": [
    "##### Stan model inference"
   ]
  },
  {
   "cell_type": "code",
   "execution_count": 11,
   "metadata": {},
   "outputs": [
    {
     "name": "stdout",
     "output_type": "stream",
     "text": [
      "Inference for Stan model: anon_model_28598bc7595af8884de7a43b9ba84b5a.\n",
      "4 chains, each with iter=1000; warmup=500; thin=1; \n",
      "post-warmup draws per chain=500, total post-warmup draws=2000.\n",
      "\n",
      "          mean se_mean     sd   2.5%    25%    50%    75%  97.5%  n_eff   Rhat\n",
      "mu[1]    75.91    0.13   6.97  61.57  71.63  76.02  80.29  90.06   2829    1.0\n",
      "mu[2]   106.34    0.15   6.95  92.19  101.7  106.2 110.62 120.59   2273    1.0\n",
      "mu[3]     88.0    0.14   6.92  74.84  83.38  87.84   92.6 101.93   2591    1.0\n",
      "mu[4]   111.78    0.12   6.71  99.04 107.09  111.8 116.43 124.73   3057    1.0\n",
      "mu[5]    90.11    0.12    6.8  77.11  85.69  90.03   94.6 104.14   2997    1.0\n",
      "mu[6]    86.16    0.13   6.98  72.08  81.69  86.28  90.71 100.13   2827    1.0\n",
      "sigma    15.16    0.05   2.33  11.45  13.51  14.93  16.42  20.55   1926    1.0\n",
      "ypred_6   86.2     0.4  17.24  51.54  75.22  86.21  97.53 120.75   1856    1.0\n",
      "lp__    -92.98    0.07   2.13 -97.86  -94.2 -92.55 -91.41 -89.97    846    1.0\n",
      "\n",
      "Samples were drawn using NUTS at Mon Nov  5 01:29:56 2018.\n",
      "For each parameter, n_eff is a crude measure of effective sample size,\n",
      "and Rhat is the potential scale reduction factor on split chains (at \n",
      "convergence, Rhat=1).\n"
     ]
    }
   ],
   "source": [
    "print(fit)"
   ]
  },
  {
   "cell_type": "markdown",
   "metadata": {},
   "source": [
    "##### Answers for i) and ii)"
   ]
  },
  {
   "cell_type": "code",
   "execution_count": 12,
   "metadata": {},
   "outputs": [
    {
     "data": {
      "image/png": "[encoded data removed]",
      "text/plain": [
       "<Figure size 432x288 with 1 Axes>"
      ]
     },
     "metadata": {
      "needs_background": "light"
     },
     "output_type": "display_data"
    },
    {
     "data": {
      "image/png": "[encoded data removed]",
      "text/plain": [
       "<Figure size 432x288 with 1 Axes>"
      ]
     },
     "metadata": {
      "needs_background": "light"
     },
     "output_type": "display_data"
    }
   ],
   "source": [
    "plot_i_ii()"
   ]
  },
  {
   "cell_type": "markdown",
   "metadata": {},
   "source": [
    "##### Answer for iii)\n",
    "This histogram for the 7th machine should be the same as in i) for the 6th machine because they have the same distribution also this case"
   ]
  },
  {
   "cell_type": "markdown",
   "metadata": {},
   "source": [
    "-------------------------------\n",
    "\n",
    "**Hierarchical model**  "
   ]
  },
  {
   "cell_type": "markdown",
   "metadata": {},
   "source": [
    "\n",
    "\n",
    "The answers are  after the source code.\n"
   ]
  },
  {
   "cell_type": "code",
   "execution_count": 13,
   "metadata": {},
   "outputs": [],
   "source": [
    "%%capture\n",
    "model=\"\"\"\n",
    "data {\n",
    "    int<lower=0> N; // number of data points\n",
    "    int<lower=0> K; // number of groups\n",
    "    int<lower=1,upper=K> x[N]; // group indicator\n",
    "    vector[N] y; //\n",
    "}\n",
    "parameters {\n",
    "    real mu0;             // prior mean\n",
    "    real<lower=0> sigma0; // prior std\n",
    "    vector[K] mu;         // group means\n",
    "    real<lower=0> sigma;  // common std\n",
    "}\n",
    "model {\n",
    "  mu0 ~ normal(10,10);      // weakly informative prior\n",
    "  sigma0 ~ cauchy(0,4);     // weakly informative prior\n",
    "  mu ~ normal(mu0, sigma0); // population prior with unknown parameters\n",
    "  sigma ~ cauchy(0,4);      // weakly informative prior\n",
    "  y ~ normal(mu[x], sigma);\n",
    "}\n",
    "generated quantities {\n",
    "    real ypred_6; // predictive distribution for the 6th machine\n",
    "    ypred_6 = normal_rng(mu[6], sigma);\n",
    "}\n",
    "\"\"\"\n",
    "\n",
    "data = dict(N=30, K=6, x=x, y=y)\n",
    "sm = pystan.StanModel(model_code=model)\n",
    "fit = sm.sampling(data=data, iter=1000, chains=4)\n",
    "samples = fit.extract(permuted=True)\n",
    "\n",
    "def plot_i_ii():\n",
    "    plt.hist(samples['mu'][:,5])\n",
    "    plt.title('Posterior distribution of 6th machine')\n",
    "    plt.show()\n",
    "    plt.hist(samples['ypred_6'])\n",
    "    plt.title('Predictive distribution of 6th machine')\n",
    "    plt.show()\n",
    "    "
   ]
  },
  {
   "cell_type": "markdown",
   "metadata": {},
   "source": [
    "##### Stan model inference"
   ]
  },
  {
   "cell_type": "code",
   "execution_count": 15,
   "metadata": {
    "scrolled": false
   },
   "outputs": [
    {
     "name": "stdout",
     "output_type": "stream",
     "text": [
      "Inference for Stan model: anon_model_21c2e5744abac4d4e83d90f1f235092a.\n",
      "4 chains, each with iter=1000; warmup=500; thin=1; \n",
      "post-warmup draws per chain=500, total post-warmup draws=2000.\n",
      "\n",
      "          mean se_mean     sd   2.5%    25%    50%    75%  97.5%  n_eff   Rhat\n",
      "mu0      19.87     0.2  10.12  -0.36  13.16  20.23  26.65  39.86   2679    1.0\n",
      "sigma0   76.63     0.6  27.34  40.53  58.57  71.16  88.57 141.83   2098    1.0\n",
      "mu[1]    75.15    0.13   7.07  59.86  70.74  75.41  79.61  89.04   3092    1.0\n",
      "mu[2]   105.29    0.12   6.57  92.25 101.09 105.41 109.63 118.33   2853    1.0\n",
      "mu[3]    87.04    0.12   6.49  73.48  82.78  87.11  91.49  99.85   3048    1.0\n",
      "mu[4]   110.87    0.12   6.67  97.42 106.29 110.84 115.39 124.02   3230    1.0\n",
      "mu[5]    89.31    0.13   6.43  76.23  85.17  89.33  93.31 102.17   2450    1.0\n",
      "mu[6]    85.47    0.12   6.88  71.58  81.03  85.43  89.98  99.28   3157    1.0\n",
      "sigma    14.61    0.06   2.24  11.18  12.99  14.29   15.9  20.04   1488    1.0\n",
      "ypred_6  85.32    0.36  16.18  53.59  75.08  84.86  95.75 118.25   2030    1.0\n",
      "lp__    -127.2     0.1   2.48 -133.4 -128.5 -126.8 -125.4 -123.5    667    1.0\n",
      "\n",
      "Samples were drawn using NUTS at Mon Nov  5 01:31:45 2018.\n",
      "For each parameter, n_eff is a crude measure of effective sample size,\n",
      "and Rhat is the potential scale reduction factor on split chains (at \n",
      "convergence, Rhat=1).\n"
     ]
    }
   ],
   "source": [
    "print(fit)"
   ]
  },
  {
   "cell_type": "markdown",
   "metadata": {},
   "source": [
    "##### Answers for i) and ii)"
   ]
  },
  {
   "cell_type": "code",
   "execution_count": 16,
   "metadata": {
    "scrolled": false
   },
   "outputs": [
    {
     "data": {
      "image/png": "[encoded data removed]",
      "text/plain": [
       "<Figure size 432x288 with 1 Axes>"
      ]
     },
     "metadata": {
      "needs_background": "light"
     },
     "output_type": "display_data"
    },
    {
     "data": {
      "image/png": "[encoded data removed]",
      "text/plain": [
       "<Figure size 432x288 with 1 Axes>"
      ]
     },
     "metadata": {
      "needs_background": "light"
     },
     "output_type": "display_data"
    }
   ],
   "source": [
    "plot_i_ii()"
   ]
  },
  {
   "cell_type": "code",
   "execution_count": null,
   "metadata": {},
   "outputs": [],
   "source": []
  }
 ],
 "metadata": {
  "kernelspec": {
   "display_name": "Python 3",
   "language": "python",
   "name": "python3"
  },
  "language_info": {
   "codemirror_mode": {
    "name": "ipython",
    "version": 3
   },
   "file_extension": ".py",
   "mimetype": "text/x-python",
   "name": "python",
   "nbconvert_exporter": "python",
   "pygments_lexer": "ipython3",
   "version": "3.7.0"
  },
  "varInspector": {
   "cols": {
    "lenName": 16,
    "lenType": 16,
    "lenVar": 40
   },
   "kernels_config": {
    "python": {
     "delete_cmd_postfix": "",
     "delete_cmd_prefix": "del ",
     "library": "var_list.py",
     "varRefreshCmd": "print(var_dic_list())"
    },
    "r": {
     "delete_cmd_postfix": ") ",
     "delete_cmd_prefix": "rm(",
     "library": "var_list.r",
     "varRefreshCmd": "cat(var_dic_list()) "
    }
   },
   "types_to_exclude": [
    "module",
    "function",
    "builtin_function_or_method",
    "instance",
    "_Feature"
   ],
   "window_display": false
  }
 },
 "nbformat": 4,
 "nbformat_minor": 2
}
